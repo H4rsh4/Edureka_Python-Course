{
 "cells": [
  {
   "cell_type": "code",
   "execution_count": 33,
   "metadata": {},
   "outputs": [],
   "source": [
    "import pandas as pd\n",
    "import numpy as np\n",
    "\n",
    "import matplotlib.pyplot as plt\n",
    "\n",
    "from sklearn.model_selection import train_test_split\n",
    "from sklearn.model_selection import KFold, cross_val_score\n",
    "from sklearn.model_selection import GridSearchCV\n",
    "\n",
    "from sklearn.metrics import accuracy_score, mean_squared_error\n",
    "\n",
    "from sklearn.tree import DecisionTreeClassifier\n",
    "from sklearn.ensemble import RandomForestClassifier\n"
   ]
  },
  {
   "cell_type": "code",
   "execution_count": 2,
   "metadata": {},
   "outputs": [],
   "source": [
    "df_raw = pd.read_csv('E:/Edureka_Python-Course/Data Sources/Day_14/glass.csv')"
   ]
  },
  {
   "cell_type": "code",
   "execution_count": 3,
   "metadata": {},
   "outputs": [
    {
     "data": {
      "text/html": [
       "<div>\n",
       "<style scoped>\n",
       "    .dataframe tbody tr th:only-of-type {\n",
       "        vertical-align: middle;\n",
       "    }\n",
       "\n",
       "    .dataframe tbody tr th {\n",
       "        vertical-align: top;\n",
       "    }\n",
       "\n",
       "    .dataframe thead th {\n",
       "        text-align: right;\n",
       "    }\n",
       "</style>\n",
       "<table border=\"1\" class=\"dataframe\">\n",
       "  <thead>\n",
       "    <tr style=\"text-align: right;\">\n",
       "      <th></th>\n",
       "      <th>0</th>\n",
       "      <th>1</th>\n",
       "      <th>2</th>\n",
       "      <th>3</th>\n",
       "      <th>4</th>\n",
       "    </tr>\n",
       "  </thead>\n",
       "  <tbody>\n",
       "    <tr>\n",
       "      <th>RI</th>\n",
       "      <td>1.52101</td>\n",
       "      <td>1.51761</td>\n",
       "      <td>1.51618</td>\n",
       "      <td>1.51766</td>\n",
       "      <td>1.51742</td>\n",
       "    </tr>\n",
       "    <tr>\n",
       "      <th>Na</th>\n",
       "      <td>13.64000</td>\n",
       "      <td>13.89000</td>\n",
       "      <td>13.53000</td>\n",
       "      <td>13.21000</td>\n",
       "      <td>13.27000</td>\n",
       "    </tr>\n",
       "    <tr>\n",
       "      <th>Mg</th>\n",
       "      <td>4.49000</td>\n",
       "      <td>3.60000</td>\n",
       "      <td>3.55000</td>\n",
       "      <td>3.69000</td>\n",
       "      <td>3.62000</td>\n",
       "    </tr>\n",
       "    <tr>\n",
       "      <th>Al</th>\n",
       "      <td>1.10000</td>\n",
       "      <td>1.36000</td>\n",
       "      <td>1.54000</td>\n",
       "      <td>1.29000</td>\n",
       "      <td>1.24000</td>\n",
       "    </tr>\n",
       "    <tr>\n",
       "      <th>Si</th>\n",
       "      <td>71.78000</td>\n",
       "      <td>72.73000</td>\n",
       "      <td>72.99000</td>\n",
       "      <td>72.61000</td>\n",
       "      <td>73.08000</td>\n",
       "    </tr>\n",
       "    <tr>\n",
       "      <th>K</th>\n",
       "      <td>0.06000</td>\n",
       "      <td>0.48000</td>\n",
       "      <td>0.39000</td>\n",
       "      <td>0.57000</td>\n",
       "      <td>0.55000</td>\n",
       "    </tr>\n",
       "    <tr>\n",
       "      <th>Ca</th>\n",
       "      <td>8.75000</td>\n",
       "      <td>7.83000</td>\n",
       "      <td>7.78000</td>\n",
       "      <td>8.22000</td>\n",
       "      <td>8.07000</td>\n",
       "    </tr>\n",
       "    <tr>\n",
       "      <th>Ba</th>\n",
       "      <td>0.00000</td>\n",
       "      <td>0.00000</td>\n",
       "      <td>0.00000</td>\n",
       "      <td>0.00000</td>\n",
       "      <td>0.00000</td>\n",
       "    </tr>\n",
       "    <tr>\n",
       "      <th>Fe</th>\n",
       "      <td>0.00000</td>\n",
       "      <td>0.00000</td>\n",
       "      <td>0.00000</td>\n",
       "      <td>0.00000</td>\n",
       "      <td>0.00000</td>\n",
       "    </tr>\n",
       "    <tr>\n",
       "      <th>Type</th>\n",
       "      <td>1.00000</td>\n",
       "      <td>1.00000</td>\n",
       "      <td>1.00000</td>\n",
       "      <td>1.00000</td>\n",
       "      <td>1.00000</td>\n",
       "    </tr>\n",
       "  </tbody>\n",
       "</table>\n",
       "</div>"
      ],
      "text/plain": [
       "             0         1         2         3         4\n",
       "RI     1.52101   1.51761   1.51618   1.51766   1.51742\n",
       "Na    13.64000  13.89000  13.53000  13.21000  13.27000\n",
       "Mg     4.49000   3.60000   3.55000   3.69000   3.62000\n",
       "Al     1.10000   1.36000   1.54000   1.29000   1.24000\n",
       "Si    71.78000  72.73000  72.99000  72.61000  73.08000\n",
       "K      0.06000   0.48000   0.39000   0.57000   0.55000\n",
       "Ca     8.75000   7.83000   7.78000   8.22000   8.07000\n",
       "Ba     0.00000   0.00000   0.00000   0.00000   0.00000\n",
       "Fe     0.00000   0.00000   0.00000   0.00000   0.00000\n",
       "Type   1.00000   1.00000   1.00000   1.00000   1.00000"
      ]
     },
     "execution_count": 3,
     "metadata": {},
     "output_type": "execute_result"
    }
   ],
   "source": [
    "df_raw.head().transpose()"
   ]
  },
  {
   "cell_type": "code",
   "execution_count": 4,
   "metadata": {},
   "outputs": [
    {
     "data": {
      "text/plain": [
       "array([1, 2, 3, 5, 6, 7], dtype=int64)"
      ]
     },
     "execution_count": 4,
     "metadata": {},
     "output_type": "execute_result"
    }
   ],
   "source": [
    "df_raw.Type.unique()"
   ]
  },
  {
   "cell_type": "code",
   "execution_count": 5,
   "metadata": {},
   "outputs": [
    {
     "data": {
      "text/plain": [
       "Index(['RI', 'Na', 'Mg', 'Al', 'Si', 'K', 'Ca', 'Ba', 'Fe', 'Type'], dtype='object')"
      ]
     },
     "execution_count": 5,
     "metadata": {},
     "output_type": "execute_result"
    }
   ],
   "source": [
    "df_raw.columns"
   ]
  },
  {
   "cell_type": "code",
   "execution_count": 6,
   "metadata": {},
   "outputs": [
    {
     "name": "stdout",
     "output_type": "stream",
     "text": [
      "<class 'pandas.core.frame.DataFrame'>\n",
      "RangeIndex: 214 entries, 0 to 213\n",
      "Data columns (total 10 columns):\n",
      " #   Column  Non-Null Count  Dtype  \n",
      "---  ------  --------------  -----  \n",
      " 0   RI      214 non-null    float64\n",
      " 1   Na      214 non-null    float64\n",
      " 2   Mg      214 non-null    float64\n",
      " 3   Al      214 non-null    float64\n",
      " 4   Si      214 non-null    float64\n",
      " 5   K       214 non-null    float64\n",
      " 6   Ca      214 non-null    float64\n",
      " 7   Ba      214 non-null    float64\n",
      " 8   Fe      214 non-null    float64\n",
      " 9   Type    214 non-null    int64  \n",
      "dtypes: float64(9), int64(1)\n",
      "memory usage: 16.8 KB\n"
     ]
    }
   ],
   "source": [
    "df_raw.info()"
   ]
  },
  {
   "cell_type": "code",
   "execution_count": 7,
   "metadata": {},
   "outputs": [
    {
     "name": "stdout",
     "output_type": "stream",
     "text": [
      "<BarContainer object of 9 artists>\n",
      "<BarContainer object of 9 artists>\n",
      "<BarContainer object of 9 artists>\n",
      "<BarContainer object of 9 artists>\n",
      "<BarContainer object of 9 artists>\n",
      "<BarContainer object of 9 artists>\n"
     ]
    },
    {
     "data": {
      "image/png": "[encoded data removed]",
      "text/plain": [
       "<Figure size 432x288 with 1 Axes>"
      ]
     },
     "metadata": {
      "needs_background": "light"
     },
     "output_type": "display_data"
    },
    {
     "data": {
      "image/png": "[encoded data removed]",
      "text/plain": [
       "<Figure size 432x288 with 1 Axes>"
      ]
     },
     "metadata": {
      "needs_background": "light"
     },
     "output_type": "display_data"
    },
    {
     "data": {
      "image/png": "[encoded data removed]",
      "text/plain": [
       "<Figure size 432x288 with 1 Axes>"
      ]
     },
     "metadata": {
      "needs_background": "light"
     },
     "output_type": "display_data"
    },
    {
     "data": {
      "image/png": "[encoded data removed]",
      "text/plain": [
       "<Figure size 432x288 with 1 Axes>"
      ]
     },
     "metadata": {
      "needs_background": "light"
     },
     "output_type": "display_data"
    },
    {
     "data": {
      "image/png": "[encoded data removed]",
      "text/plain": [
       "<Figure size 432x288 with 1 Axes>"
      ]
     },
     "metadata": {
      "needs_background": "light"
     },
     "output_type": "display_data"
    },
    {
     "data": {
      "image/png": "[encoded data removed]",
      "text/plain": [
       "<Figure size 432x288 with 1 Axes>"
      ]
     },
     "metadata": {
      "needs_background": "light"
     },
     "output_type": "display_data"
    }
   ],
   "source": [
    "bar_x = df_raw.Type.unique()\n",
    "bar_heights = []\n",
    "\n",
    "for typ in bar_x:\n",
    "    fig, ax = plt.subplots()\n",
    "    type_df = df_raw[df_raw.Type == typ]\n",
    "    xs = type_df.columns.unique()[:-1]\n",
    "    heights = [sum(type_df[col]) for col in xs]\n",
    "    print(ax.bar(xs,heights))\n",
    "    "
   ]
  },
  {
   "cell_type": "code",
   "execution_count": 8,
   "metadata": {},
   "outputs": [
    {
     "data": {
      "text/html": [
       "<div>\n",
       "<style scoped>\n",
       "    .dataframe tbody tr th:only-of-type {\n",
       "        vertical-align: middle;\n",
       "    }\n",
       "\n",
       "    .dataframe tbody tr th {\n",
       "        vertical-align: top;\n",
       "    }\n",
       "\n",
       "    .dataframe thead th {\n",
       "        text-align: right;\n",
       "    }\n",
       "</style>\n",
       "<table border=\"1\" class=\"dataframe\">\n",
       "  <thead>\n",
       "    <tr style=\"text-align: right;\">\n",
       "      <th></th>\n",
       "      <th>RI</th>\n",
       "      <th>Na</th>\n",
       "      <th>Mg</th>\n",
       "      <th>Al</th>\n",
       "      <th>Si</th>\n",
       "      <th>K</th>\n",
       "      <th>Ca</th>\n",
       "      <th>Ba</th>\n",
       "      <th>Fe</th>\n",
       "    </tr>\n",
       "  </thead>\n",
       "  <tbody>\n",
       "    <tr>\n",
       "      <th>190</th>\n",
       "      <td>1.51613</td>\n",
       "      <td>13.88</td>\n",
       "      <td>1.78</td>\n",
       "      <td>1.79</td>\n",
       "      <td>73.10</td>\n",
       "      <td>0.00</td>\n",
       "      <td>8.67</td>\n",
       "      <td>0.76</td>\n",
       "      <td>0.00</td>\n",
       "    </tr>\n",
       "    <tr>\n",
       "      <th>38</th>\n",
       "      <td>1.52213</td>\n",
       "      <td>14.21</td>\n",
       "      <td>3.82</td>\n",
       "      <td>0.47</td>\n",
       "      <td>71.77</td>\n",
       "      <td>0.11</td>\n",
       "      <td>9.57</td>\n",
       "      <td>0.00</td>\n",
       "      <td>0.00</td>\n",
       "    </tr>\n",
       "    <tr>\n",
       "      <th>146</th>\n",
       "      <td>1.51769</td>\n",
       "      <td>13.65</td>\n",
       "      <td>3.66</td>\n",
       "      <td>1.11</td>\n",
       "      <td>72.77</td>\n",
       "      <td>0.11</td>\n",
       "      <td>8.60</td>\n",
       "      <td>0.00</td>\n",
       "      <td>0.00</td>\n",
       "    </tr>\n",
       "    <tr>\n",
       "      <th>40</th>\n",
       "      <td>1.51793</td>\n",
       "      <td>12.79</td>\n",
       "      <td>3.50</td>\n",
       "      <td>1.12</td>\n",
       "      <td>73.03</td>\n",
       "      <td>0.64</td>\n",
       "      <td>8.77</td>\n",
       "      <td>0.00</td>\n",
       "      <td>0.00</td>\n",
       "    </tr>\n",
       "    <tr>\n",
       "      <th>204</th>\n",
       "      <td>1.51617</td>\n",
       "      <td>14.95</td>\n",
       "      <td>0.00</td>\n",
       "      <td>2.27</td>\n",
       "      <td>73.30</td>\n",
       "      <td>0.00</td>\n",
       "      <td>8.71</td>\n",
       "      <td>0.67</td>\n",
       "      <td>0.00</td>\n",
       "    </tr>\n",
       "    <tr>\n",
       "      <th>...</th>\n",
       "      <td>...</td>\n",
       "      <td>...</td>\n",
       "      <td>...</td>\n",
       "      <td>...</td>\n",
       "      <td>...</td>\n",
       "      <td>...</td>\n",
       "      <td>...</td>\n",
       "      <td>...</td>\n",
       "      <td>...</td>\n",
       "    </tr>\n",
       "    <tr>\n",
       "      <th>132</th>\n",
       "      <td>1.51813</td>\n",
       "      <td>13.43</td>\n",
       "      <td>3.98</td>\n",
       "      <td>1.18</td>\n",
       "      <td>72.49</td>\n",
       "      <td>0.58</td>\n",
       "      <td>8.15</td>\n",
       "      <td>0.00</td>\n",
       "      <td>0.00</td>\n",
       "    </tr>\n",
       "    <tr>\n",
       "      <th>33</th>\n",
       "      <td>1.51753</td>\n",
       "      <td>12.57</td>\n",
       "      <td>3.47</td>\n",
       "      <td>1.38</td>\n",
       "      <td>73.39</td>\n",
       "      <td>0.60</td>\n",
       "      <td>8.55</td>\n",
       "      <td>0.00</td>\n",
       "      <td>0.06</td>\n",
       "    </tr>\n",
       "    <tr>\n",
       "      <th>109</th>\n",
       "      <td>1.51818</td>\n",
       "      <td>13.72</td>\n",
       "      <td>0.00</td>\n",
       "      <td>0.56</td>\n",
       "      <td>74.45</td>\n",
       "      <td>0.00</td>\n",
       "      <td>10.99</td>\n",
       "      <td>0.00</td>\n",
       "      <td>0.00</td>\n",
       "    </tr>\n",
       "    <tr>\n",
       "      <th>139</th>\n",
       "      <td>1.51674</td>\n",
       "      <td>12.87</td>\n",
       "      <td>3.56</td>\n",
       "      <td>1.64</td>\n",
       "      <td>73.14</td>\n",
       "      <td>0.65</td>\n",
       "      <td>7.99</td>\n",
       "      <td>0.00</td>\n",
       "      <td>0.00</td>\n",
       "    </tr>\n",
       "    <tr>\n",
       "      <th>176</th>\n",
       "      <td>1.51905</td>\n",
       "      <td>14.00</td>\n",
       "      <td>2.39</td>\n",
       "      <td>1.56</td>\n",
       "      <td>72.37</td>\n",
       "      <td>0.00</td>\n",
       "      <td>9.57</td>\n",
       "      <td>0.00</td>\n",
       "      <td>0.00</td>\n",
       "    </tr>\n",
       "  </tbody>\n",
       "</table>\n",
       "<p>160 rows × 9 columns</p>\n",
       "</div>"
      ],
      "text/plain": [
       "          RI     Na    Mg    Al     Si     K     Ca    Ba    Fe\n",
       "190  1.51613  13.88  1.78  1.79  73.10  0.00   8.67  0.76  0.00\n",
       "38   1.52213  14.21  3.82  0.47  71.77  0.11   9.57  0.00  0.00\n",
       "146  1.51769  13.65  3.66  1.11  72.77  0.11   8.60  0.00  0.00\n",
       "40   1.51793  12.79  3.50  1.12  73.03  0.64   8.77  0.00  0.00\n",
       "204  1.51617  14.95  0.00  2.27  73.30  0.00   8.71  0.67  0.00\n",
       "..       ...    ...   ...   ...    ...   ...    ...   ...   ...\n",
       "132  1.51813  13.43  3.98  1.18  72.49  0.58   8.15  0.00  0.00\n",
       "33   1.51753  12.57  3.47  1.38  73.39  0.60   8.55  0.00  0.06\n",
       "109  1.51818  13.72  0.00  0.56  74.45  0.00  10.99  0.00  0.00\n",
       "139  1.51674  12.87  3.56  1.64  73.14  0.65   7.99  0.00  0.00\n",
       "176  1.51905  14.00  2.39  1.56  72.37  0.00   9.57  0.00  0.00\n",
       "\n",
       "[160 rows x 9 columns]"
      ]
     },
     "execution_count": 8,
     "metadata": {},
     "output_type": "execute_result"
    }
   ],
   "source": [
    "train_x, test_x, train_y, test_y = train_test_split(\n",
    "    df_raw.drop('Type', axis=1) , df_raw.Type,\n",
    "    random_state=50,\n",
    ")\n",
    "\n",
    "train_x"
   ]
  },
  {
   "cell_type": "code",
   "execution_count": 48,
   "metadata": {
    "collapsed": true,
    "jupyter": {
     "outputs_hidden": true
    }
   },
   "outputs": [
    {
     "data": {
      "text/plain": [
       "\u001b[1;31mInit signature:\u001b[0m\n",
       "\u001b[0mRandomForestClassifier\u001b[0m\u001b[1;33m(\u001b[0m\u001b[1;33m\n",
       "\u001b[0m    \u001b[0mn_estimators\u001b[0m\u001b[1;33m=\u001b[0m\u001b[1;36m100\u001b[0m\u001b[1;33m,\u001b[0m\u001b[1;33m\n",
       "\u001b[0m    \u001b[1;33m*\u001b[0m\u001b[1;33m,\u001b[0m\u001b[1;33m\n",
       "\u001b[0m    \u001b[0mcriterion\u001b[0m\u001b[1;33m=\u001b[0m\u001b[1;34m'gini'\u001b[0m\u001b[1;33m,\u001b[0m\u001b[1;33m\n",
       "\u001b[0m    \u001b[0mmax_depth\u001b[0m\u001b[1;33m=\u001b[0m\u001b[1;32mNone\u001b[0m\u001b[1;33m,\u001b[0m\u001b[1;33m\n",
       "\u001b[0m    \u001b[0mmin_samples_split\u001b[0m\u001b[1;33m=\u001b[0m\u001b[1;36m2\u001b[0m\u001b[1;33m,\u001b[0m\u001b[1;33m\n",
       "\u001b[0m    \u001b[0mmin_samples_leaf\u001b[0m\u001b[1;33m=\u001b[0m\u001b[1;36m1\u001b[0m\u001b[1;33m,\u001b[0m\u001b[1;33m\n",
       "\u001b[0m    \u001b[0mmin_weight_fraction_leaf\u001b[0m\u001b[1;33m=\u001b[0m\u001b[1;36m0.0\u001b[0m\u001b[1;33m,\u001b[0m\u001b[1;33m\n",
       "\u001b[0m    \u001b[0mmax_features\u001b[0m\u001b[1;33m=\u001b[0m\u001b[1;34m'auto'\u001b[0m\u001b[1;33m,\u001b[0m\u001b[1;33m\n",
       "\u001b[0m    \u001b[0mmax_leaf_nodes\u001b[0m\u001b[1;33m=\u001b[0m\u001b[1;32mNone\u001b[0m\u001b[1;33m,\u001b[0m\u001b[1;33m\n",
       "\u001b[0m    \u001b[0mmin_impurity_decrease\u001b[0m\u001b[1;33m=\u001b[0m\u001b[1;36m0.0\u001b[0m\u001b[1;33m,\u001b[0m\u001b[1;33m\n",
       "\u001b[0m    \u001b[0mmin_impurity_split\u001b[0m\u001b[1;33m=\u001b[0m\u001b[1;32mNone\u001b[0m\u001b[1;33m,\u001b[0m\u001b[1;33m\n",
       "\u001b[0m    \u001b[0mbootstrap\u001b[0m\u001b[1;33m=\u001b[0m\u001b[1;32mTrue\u001b[0m\u001b[1;33m,\u001b[0m\u001b[1;33m\n",
       "\u001b[0m    \u001b[0moob_score\u001b[0m\u001b[1;33m=\u001b[0m\u001b[1;32mFalse\u001b[0m\u001b[1;33m,\u001b[0m\u001b[1;33m\n",
       "\u001b[0m    \u001b[0mn_jobs\u001b[0m\u001b[1;33m=\u001b[0m\u001b[1;32mNone\u001b[0m\u001b[1;33m,\u001b[0m\u001b[1;33m\n",
       "\u001b[0m    \u001b[0mrandom_state\u001b[0m\u001b[1;33m=\u001b[0m\u001b[1;32mNone\u001b[0m\u001b[1;33m,\u001b[0m\u001b[1;33m\n",
       "\u001b[0m    \u001b[0mverbose\u001b[0m\u001b[1;33m=\u001b[0m\u001b[1;36m0\u001b[0m\u001b[1;33m,\u001b[0m\u001b[1;33m\n",
       "\u001b[0m    \u001b[0mwarm_start\u001b[0m\u001b[1;33m=\u001b[0m\u001b[1;32mFalse\u001b[0m\u001b[1;33m,\u001b[0m\u001b[1;33m\n",
       "\u001b[0m    \u001b[0mclass_weight\u001b[0m\u001b[1;33m=\u001b[0m\u001b[1;32mNone\u001b[0m\u001b[1;33m,\u001b[0m\u001b[1;33m\n",
       "\u001b[0m    \u001b[0mccp_alpha\u001b[0m\u001b[1;33m=\u001b[0m\u001b[1;36m0.0\u001b[0m\u001b[1;33m,\u001b[0m\u001b[1;33m\n",
       "\u001b[0m    \u001b[0mmax_samples\u001b[0m\u001b[1;33m=\u001b[0m\u001b[1;32mNone\u001b[0m\u001b[1;33m,\u001b[0m\u001b[1;33m\n",
       "\u001b[0m\u001b[1;33m)\u001b[0m\u001b[1;33m\u001b[0m\u001b[1;33m\u001b[0m\u001b[0m\n",
       "\u001b[1;31mSource:\u001b[0m        \n",
       "\u001b[1;32mclass\u001b[0m \u001b[0mRandomForestClassifier\u001b[0m\u001b[1;33m(\u001b[0m\u001b[0mForestClassifier\u001b[0m\u001b[1;33m)\u001b[0m\u001b[1;33m:\u001b[0m\u001b[1;33m\n",
       "\u001b[0m    \u001b[1;34m\"\"\"\n",
       "    A random forest classifier.\n",
       "\n",
       "    A random forest is a meta estimator that fits a number of decision tree\n",
       "    classifiers on various sub-samples of the dataset and uses averaging to\n",
       "    improve the predictive accuracy and control over-fitting.\n",
       "    The sub-sample size is controlled with the `max_samples` parameter if\n",
       "    `bootstrap=True` (default), otherwise the whole dataset is used to build\n",
       "    each tree.\n",
       "\n",
       "    Read more in the :ref:`User Guide <forest>`.\n",
       "\n",
       "    Parameters\n",
       "    ----------\n",
       "    n_estimators : int, default=100\n",
       "        The number of trees in the forest.\n",
       "\n",
       "        .. versionchanged:: 0.22\n",
       "           The default value of ``n_estimators`` changed from 10 to 100\n",
       "           in 0.22.\n",
       "\n",
       "    criterion : {\"gini\", \"entropy\"}, default=\"gini\"\n",
       "        The function to measure the quality of a split. Supported criteria are\n",
       "        \"gini\" for the Gini impurity and \"entropy\" for the information gain.\n",
       "        Note: this parameter is tree-specific.\n",
       "\n",
       "    max_depth : int, default=None\n",
       "        The maximum depth of the tree. If None, then nodes are expanded until\n",
       "        all leaves are pure or until all leaves contain less than\n",
       "        min_samples_split samples.\n",
       "\n",
       "    min_samples_split : int or float, default=2\n",
       "        The minimum number of samples required to split an internal node:\n",
       "\n",
       "        - If int, then consider `min_samples_split` as the minimum number.\n",
       "        - If float, then `min_samples_split` is a fraction and\n",
       "          `ceil(min_samples_split * n_samples)` are the minimum\n",
       "          number of samples for each split.\n",
       "\n",
       "        .. versionchanged:: 0.18\n",
       "           Added float values for fractions.\n",
       "\n",
       "    min_samples_leaf : int or float, default=1\n",
       "        The minimum number of samples required to be at a leaf node.\n",
       "        A split point at any depth will only be considered if it leaves at\n",
       "        least ``min_samples_leaf`` training samples in each of the left and\n",
       "        right branches.  This may have the effect of smoothing the model,\n",
       "        especially in regression.\n",
       "\n",
       "        - If int, then consider `min_samples_leaf` as the minimum number.\n",
       "        - If float, then `min_samples_leaf` is a fraction and\n",
       "          `ceil(min_samples_leaf * n_samples)` are the minimum\n",
       "          number of samples for each node.\n",
       "\n",
       "        .. versionchanged:: 0.18\n",
       "           Added float values for fractions.\n",
       "\n",
       "    min_weight_fraction_leaf : float, default=0.0\n",
       "        The minimum weighted fraction of the sum total of weights (of all\n",
       "        the input samples) required to be at a leaf node. Samples have\n",
       "        equal weight when sample_weight is not provided.\n",
       "\n",
       "    max_features : {\"auto\", \"sqrt\", \"log2\"}, int or float, default=\"auto\"\n",
       "        The number of features to consider when looking for the best split:\n",
       "\n",
       "        - If int, then consider `max_features` features at each split.\n",
       "        - If float, then `max_features` is a fraction and\n",
       "          `int(max_features * n_features)` features are considered at each\n",
       "          split.\n",
       "        - If \"auto\", then `max_features=sqrt(n_features)`.\n",
       "        - If \"sqrt\", then `max_features=sqrt(n_features)` (same as \"auto\").\n",
       "        - If \"log2\", then `max_features=log2(n_features)`.\n",
       "        - If None, then `max_features=n_features`.\n",
       "\n",
       "        Note: the search for a split does not stop until at least one\n",
       "        valid partition of the node samples is found, even if it requires to\n",
       "        effectively inspect more than ``max_features`` features.\n",
       "\n",
       "    max_leaf_nodes : int, default=None\n",
       "        Grow trees with ``max_leaf_nodes`` in best-first fashion.\n",
       "        Best nodes are defined as relative reduction in impurity.\n",
       "        If None then unlimited number of leaf nodes.\n",
       "\n",
       "    min_impurity_decrease : float, default=0.0\n",
       "        A node will be split if this split induces a decrease of the impurity\n",
       "        greater than or equal to this value.\n",
       "\n",
       "        The weighted impurity decrease equation is the following::\n",
       "\n",
       "            N_t / N * (impurity - N_t_R / N_t * right_impurity\n",
       "                                - N_t_L / N_t * left_impurity)\n",
       "\n",
       "        where ``N`` is the total number of samples, ``N_t`` is the number of\n",
       "        samples at the current node, ``N_t_L`` is the number of samples in the\n",
       "        left child, and ``N_t_R`` is the number of samples in the right child.\n",
       "\n",
       "        ``N``, ``N_t``, ``N_t_R`` and ``N_t_L`` all refer to the weighted sum,\n",
       "        if ``sample_weight`` is passed.\n",
       "\n",
       "        .. versionadded:: 0.19\n",
       "\n",
       "    min_impurity_split : float, default=None\n",
       "        Threshold for early stopping in tree growth. A node will split\n",
       "        if its impurity is above the threshold, otherwise it is a leaf.\n",
       "\n",
       "        .. deprecated:: 0.19\n",
       "           ``min_impurity_split`` has been deprecated in favor of\n",
       "           ``min_impurity_decrease`` in 0.19. The default value of\n",
       "           ``min_impurity_split`` has changed from 1e-7 to 0 in 0.23 and it\n",
       "           will be removed in 0.25. Use ``min_impurity_decrease`` instead.\n",
       "\n",
       "\n",
       "    bootstrap : bool, default=True\n",
       "        Whether bootstrap samples are used when building trees. If False, the\n",
       "        whole dataset is used to build each tree.\n",
       "\n",
       "    oob_score : bool, default=False\n",
       "        Whether to use out-of-bag samples to estimate\n",
       "        the generalization accuracy.\n",
       "\n",
       "    n_jobs : int, default=None\n",
       "        The number of jobs to run in parallel. :meth:`fit`, :meth:`predict`,\n",
       "        :meth:`decision_path` and :meth:`apply` are all parallelized over the\n",
       "        trees. ``None`` means 1 unless in a :obj:`joblib.parallel_backend`\n",
       "        context. ``-1`` means using all processors. See :term:`Glossary\n",
       "        <n_jobs>` for more details.\n",
       "\n",
       "    random_state : int or RandomState, default=None\n",
       "        Controls both the randomness of the bootstrapping of the samples used\n",
       "        when building trees (if ``bootstrap=True``) and the sampling of the\n",
       "        features to consider when looking for the best split at each node\n",
       "        (if ``max_features < n_features``).\n",
       "        See :term:`Glossary <random_state>` for details.\n",
       "\n",
       "    verbose : int, default=0\n",
       "        Controls the verbosity when fitting and predicting.\n",
       "\n",
       "    warm_start : bool, default=False\n",
       "        When set to ``True``, reuse the solution of the previous call to fit\n",
       "        and add more estimators to the ensemble, otherwise, just fit a whole\n",
       "        new forest. See :term:`the Glossary <warm_start>`.\n",
       "\n",
       "    class_weight : {\"balanced\", \"balanced_subsample\"}, dict or list of dicts, \\\n",
       "            default=None\n",
       "        Weights associated with classes in the form ``{class_label: weight}``.\n",
       "        If not given, all classes are supposed to have weight one. For\n",
       "        multi-output problems, a list of dicts can be provided in the same\n",
       "        order as the columns of y.\n",
       "\n",
       "        Note that for multioutput (including multilabel) weights should be\n",
       "        defined for each class of every column in its own dict. For example,\n",
       "        for four-class multilabel classification weights should be\n",
       "        [{0: 1, 1: 1}, {0: 1, 1: 5}, {0: 1, 1: 1}, {0: 1, 1: 1}] instead of\n",
       "        [{1:1}, {2:5}, {3:1}, {4:1}].\n",
       "\n",
       "        The \"balanced\" mode uses the values of y to automatically adjust\n",
       "        weights inversely proportional to class frequencies in the input data\n",
       "        as ``n_samples / (n_classes * np.bincount(y))``\n",
       "\n",
       "        The \"balanced_subsample\" mode is the same as \"balanced\" except that\n",
       "        weights are computed based on the bootstrap sample for every tree\n",
       "        grown.\n",
       "\n",
       "        For multi-output, the weights of each column of y will be multiplied.\n",
       "\n",
       "        Note that these weights will be multiplied with sample_weight (passed\n",
       "        through the fit method) if sample_weight is specified.\n",
       "\n",
       "    ccp_alpha : non-negative float, default=0.0\n",
       "        Complexity parameter used for Minimal Cost-Complexity Pruning. The\n",
       "        subtree with the largest cost complexity that is smaller than\n",
       "        ``ccp_alpha`` will be chosen. By default, no pruning is performed. See\n",
       "        :ref:`minimal_cost_complexity_pruning` for details.\n",
       "\n",
       "        .. versionadded:: 0.22\n",
       "\n",
       "    max_samples : int or float, default=None\n",
       "        If bootstrap is True, the number of samples to draw from X\n",
       "        to train each base estimator.\n",
       "\n",
       "        - If None (default), then draw `X.shape[0]` samples.\n",
       "        - If int, then draw `max_samples` samples.\n",
       "        - If float, then draw `max_samples * X.shape[0]` samples. Thus,\n",
       "          `max_samples` should be in the interval `(0, 1)`.\n",
       "\n",
       "        .. versionadded:: 0.22\n",
       "\n",
       "    Attributes\n",
       "    ----------\n",
       "    base_estimator_ : DecisionTreeClassifier\n",
       "        The child estimator template used to create the collection of fitted\n",
       "        sub-estimators.\n",
       "\n",
       "    estimators_ : list of DecisionTreeClassifier\n",
       "        The collection of fitted sub-estimators.\n",
       "\n",
       "    classes_ : ndarray of shape (n_classes,) or a list of such arrays\n",
       "        The classes labels (single output problem), or a list of arrays of\n",
       "        class labels (multi-output problem).\n",
       "\n",
       "    n_classes_ : int or list\n",
       "        The number of classes (single output problem), or a list containing the\n",
       "        number of classes for each output (multi-output problem).\n",
       "\n",
       "    n_features_ : int\n",
       "        The number of features when ``fit`` is performed.\n",
       "\n",
       "    n_outputs_ : int\n",
       "        The number of outputs when ``fit`` is performed.\n",
       "\n",
       "    feature_importances_ : ndarray of shape (n_features,)\n",
       "        The impurity-based feature importances.\n",
       "        The higher, the more important the feature.\n",
       "        The importance of a feature is computed as the (normalized)\n",
       "        total reduction of the criterion brought by that feature.  It is also\n",
       "        known as the Gini importance.\n",
       "\n",
       "        Warning: impurity-based feature importances can be misleading for\n",
       "        high cardinality features (many unique values). See\n",
       "        :func:`sklearn.inspection.permutation_importance` as an alternative.\n",
       "\n",
       "    oob_score_ : float\n",
       "        Score of the training dataset obtained using an out-of-bag estimate.\n",
       "        This attribute exists only when ``oob_score`` is True.\n",
       "\n",
       "    oob_decision_function_ : ndarray of shape (n_samples, n_classes)\n",
       "        Decision function computed with out-of-bag estimate on the training\n",
       "        set. If n_estimators is small it might be possible that a data point\n",
       "        was never left out during the bootstrap. In this case,\n",
       "        `oob_decision_function_` might contain NaN. This attribute exists\n",
       "        only when ``oob_score`` is True.\n",
       "\n",
       "    See Also\n",
       "    --------\n",
       "    DecisionTreeClassifier, ExtraTreesClassifier\n",
       "\n",
       "    Notes\n",
       "    -----\n",
       "    The default values for the parameters controlling the size of the trees\n",
       "    (e.g. ``max_depth``, ``min_samples_leaf``, etc.) lead to fully grown and\n",
       "    unpruned trees which can potentially be very large on some data sets. To\n",
       "    reduce memory consumption, the complexity and size of the trees should be\n",
       "    controlled by setting those parameter values.\n",
       "\n",
       "    The features are always randomly permuted at each split. Therefore,\n",
       "    the best found split may vary, even with the same training data,\n",
       "    ``max_features=n_features`` and ``bootstrap=False``, if the improvement\n",
       "    of the criterion is identical for several splits enumerated during the\n",
       "    search of the best split. To obtain a deterministic behaviour during\n",
       "    fitting, ``random_state`` has to be fixed.\n",
       "\n",
       "    References\n",
       "    ----------\n",
       "    .. [1] L. Breiman, \"Random Forests\", Machine Learning, 45(1), 5-32, 2001.\n",
       "\n",
       "    Examples\n",
       "    --------\n",
       "    >>> from sklearn.ensemble import RandomForestClassifier\n",
       "    >>> from sklearn.datasets import make_classification\n",
       "    >>> X, y = make_classification(n_samples=1000, n_features=4,\n",
       "    ...                            n_informative=2, n_redundant=0,\n",
       "    ...                            random_state=0, shuffle=False)\n",
       "    >>> clf = RandomForestClassifier(max_depth=2, random_state=0)\n",
       "    >>> clf.fit(X, y)\n",
       "    RandomForestClassifier(...)\n",
       "    >>> print(clf.predict([[0, 0, 0, 0]]))\n",
       "    [1]\n",
       "    \"\"\"\u001b[0m\u001b[1;33m\n",
       "\u001b[0m    \u001b[1;33m@\u001b[0m\u001b[0m_deprecate_positional_args\u001b[0m\u001b[1;33m\n",
       "\u001b[0m    \u001b[1;32mdef\u001b[0m \u001b[0m__init__\u001b[0m\u001b[1;33m(\u001b[0m\u001b[0mself\u001b[0m\u001b[1;33m,\u001b[0m\u001b[1;33m\n",
       "\u001b[0m                 \u001b[0mn_estimators\u001b[0m\u001b[1;33m=\u001b[0m\u001b[1;36m100\u001b[0m\u001b[1;33m,\u001b[0m \u001b[1;33m*\u001b[0m\u001b[1;33m,\u001b[0m\u001b[1;33m\n",
       "\u001b[0m                 \u001b[0mcriterion\u001b[0m\u001b[1;33m=\u001b[0m\u001b[1;34m\"gini\"\u001b[0m\u001b[1;33m,\u001b[0m\u001b[1;33m\n",
       "\u001b[0m                 \u001b[0mmax_depth\u001b[0m\u001b[1;33m=\u001b[0m\u001b[1;32mNone\u001b[0m\u001b[1;33m,\u001b[0m\u001b[1;33m\n",
       "\u001b[0m                 \u001b[0mmin_samples_split\u001b[0m\u001b[1;33m=\u001b[0m\u001b[1;36m2\u001b[0m\u001b[1;33m,\u001b[0m\u001b[1;33m\n",
       "\u001b[0m                 \u001b[0mmin_samples_leaf\u001b[0m\u001b[1;33m=\u001b[0m\u001b[1;36m1\u001b[0m\u001b[1;33m,\u001b[0m\u001b[1;33m\n",
       "\u001b[0m                 \u001b[0mmin_weight_fraction_leaf\u001b[0m\u001b[1;33m=\u001b[0m\u001b[1;36m0.\u001b[0m\u001b[1;33m,\u001b[0m\u001b[1;33m\n",
       "\u001b[0m                 \u001b[0mmax_features\u001b[0m\u001b[1;33m=\u001b[0m\u001b[1;34m\"auto\"\u001b[0m\u001b[1;33m,\u001b[0m\u001b[1;33m\n",
       "\u001b[0m                 \u001b[0mmax_leaf_nodes\u001b[0m\u001b[1;33m=\u001b[0m\u001b[1;32mNone\u001b[0m\u001b[1;33m,\u001b[0m\u001b[1;33m\n",
       "\u001b[0m                 \u001b[0mmin_impurity_decrease\u001b[0m\u001b[1;33m=\u001b[0m\u001b[1;36m0.\u001b[0m\u001b[1;33m,\u001b[0m\u001b[1;33m\n",
       "\u001b[0m                 \u001b[0mmin_impurity_split\u001b[0m\u001b[1;33m=\u001b[0m\u001b[1;32mNone\u001b[0m\u001b[1;33m,\u001b[0m\u001b[1;33m\n",
       "\u001b[0m                 \u001b[0mbootstrap\u001b[0m\u001b[1;33m=\u001b[0m\u001b[1;32mTrue\u001b[0m\u001b[1;33m,\u001b[0m\u001b[1;33m\n",
       "\u001b[0m                 \u001b[0moob_score\u001b[0m\u001b[1;33m=\u001b[0m\u001b[1;32mFalse\u001b[0m\u001b[1;33m,\u001b[0m\u001b[1;33m\n",
       "\u001b[0m                 \u001b[0mn_jobs\u001b[0m\u001b[1;33m=\u001b[0m\u001b[1;32mNone\u001b[0m\u001b[1;33m,\u001b[0m\u001b[1;33m\n",
       "\u001b[0m                 \u001b[0mrandom_state\u001b[0m\u001b[1;33m=\u001b[0m\u001b[1;32mNone\u001b[0m\u001b[1;33m,\u001b[0m\u001b[1;33m\n",
       "\u001b[0m                 \u001b[0mverbose\u001b[0m\u001b[1;33m=\u001b[0m\u001b[1;36m0\u001b[0m\u001b[1;33m,\u001b[0m\u001b[1;33m\n",
       "\u001b[0m                 \u001b[0mwarm_start\u001b[0m\u001b[1;33m=\u001b[0m\u001b[1;32mFalse\u001b[0m\u001b[1;33m,\u001b[0m\u001b[1;33m\n",
       "\u001b[0m                 \u001b[0mclass_weight\u001b[0m\u001b[1;33m=\u001b[0m\u001b[1;32mNone\u001b[0m\u001b[1;33m,\u001b[0m\u001b[1;33m\n",
       "\u001b[0m                 \u001b[0mccp_alpha\u001b[0m\u001b[1;33m=\u001b[0m\u001b[1;36m0.0\u001b[0m\u001b[1;33m,\u001b[0m\u001b[1;33m\n",
       "\u001b[0m                 \u001b[0mmax_samples\u001b[0m\u001b[1;33m=\u001b[0m\u001b[1;32mNone\u001b[0m\u001b[1;33m)\u001b[0m\u001b[1;33m:\u001b[0m\u001b[1;33m\n",
       "\u001b[0m        \u001b[0msuper\u001b[0m\u001b[1;33m(\u001b[0m\u001b[1;33m)\u001b[0m\u001b[1;33m.\u001b[0m\u001b[0m__init__\u001b[0m\u001b[1;33m(\u001b[0m\u001b[1;33m\n",
       "\u001b[0m            \u001b[0mbase_estimator\u001b[0m\u001b[1;33m=\u001b[0m\u001b[0mDecisionTreeClassifier\u001b[0m\u001b[1;33m(\u001b[0m\u001b[1;33m)\u001b[0m\u001b[1;33m,\u001b[0m\u001b[1;33m\n",
       "\u001b[0m            \u001b[0mn_estimators\u001b[0m\u001b[1;33m=\u001b[0m\u001b[0mn_estimators\u001b[0m\u001b[1;33m,\u001b[0m\u001b[1;33m\n",
       "\u001b[0m            \u001b[0mestimator_params\u001b[0m\u001b[1;33m=\u001b[0m\u001b[1;33m(\u001b[0m\u001b[1;34m\"criterion\"\u001b[0m\u001b[1;33m,\u001b[0m \u001b[1;34m\"max_depth\"\u001b[0m\u001b[1;33m,\u001b[0m \u001b[1;34m\"min_samples_split\"\u001b[0m\u001b[1;33m,\u001b[0m\u001b[1;33m\n",
       "\u001b[0m                              \u001b[1;34m\"min_samples_leaf\"\u001b[0m\u001b[1;33m,\u001b[0m \u001b[1;34m\"min_weight_fraction_leaf\"\u001b[0m\u001b[1;33m,\u001b[0m\u001b[1;33m\n",
       "\u001b[0m                              \u001b[1;34m\"max_features\"\u001b[0m\u001b[1;33m,\u001b[0m \u001b[1;34m\"max_leaf_nodes\"\u001b[0m\u001b[1;33m,\u001b[0m\u001b[1;33m\n",
       "\u001b[0m                              \u001b[1;34m\"min_impurity_decrease\"\u001b[0m\u001b[1;33m,\u001b[0m \u001b[1;34m\"min_impurity_split\"\u001b[0m\u001b[1;33m,\u001b[0m\u001b[1;33m\n",
       "\u001b[0m                              \u001b[1;34m\"random_state\"\u001b[0m\u001b[1;33m,\u001b[0m \u001b[1;34m\"ccp_alpha\"\u001b[0m\u001b[1;33m)\u001b[0m\u001b[1;33m,\u001b[0m\u001b[1;33m\n",
       "\u001b[0m            \u001b[0mbootstrap\u001b[0m\u001b[1;33m=\u001b[0m\u001b[0mbootstrap\u001b[0m\u001b[1;33m,\u001b[0m\u001b[1;33m\n",
       "\u001b[0m            \u001b[0moob_score\u001b[0m\u001b[1;33m=\u001b[0m\u001b[0moob_score\u001b[0m\u001b[1;33m,\u001b[0m\u001b[1;33m\n",
       "\u001b[0m            \u001b[0mn_jobs\u001b[0m\u001b[1;33m=\u001b[0m\u001b[0mn_jobs\u001b[0m\u001b[1;33m,\u001b[0m\u001b[1;33m\n",
       "\u001b[0m            \u001b[0mrandom_state\u001b[0m\u001b[1;33m=\u001b[0m\u001b[0mrandom_state\u001b[0m\u001b[1;33m,\u001b[0m\u001b[1;33m\n",
       "\u001b[0m            \u001b[0mverbose\u001b[0m\u001b[1;33m=\u001b[0m\u001b[0mverbose\u001b[0m\u001b[1;33m,\u001b[0m\u001b[1;33m\n",
       "\u001b[0m            \u001b[0mwarm_start\u001b[0m\u001b[1;33m=\u001b[0m\u001b[0mwarm_start\u001b[0m\u001b[1;33m,\u001b[0m\u001b[1;33m\n",
       "\u001b[0m            \u001b[0mclass_weight\u001b[0m\u001b[1;33m=\u001b[0m\u001b[0mclass_weight\u001b[0m\u001b[1;33m,\u001b[0m\u001b[1;33m\n",
       "\u001b[0m            \u001b[0mmax_samples\u001b[0m\u001b[1;33m=\u001b[0m\u001b[0mmax_samples\u001b[0m\u001b[1;33m)\u001b[0m\u001b[1;33m\n",
       "\u001b[0m\u001b[1;33m\n",
       "\u001b[0m        \u001b[0mself\u001b[0m\u001b[1;33m.\u001b[0m\u001b[0mcriterion\u001b[0m \u001b[1;33m=\u001b[0m \u001b[0mcriterion\u001b[0m\u001b[1;33m\n",
       "\u001b[0m        \u001b[0mself\u001b[0m\u001b[1;33m.\u001b[0m\u001b[0mmax_depth\u001b[0m \u001b[1;33m=\u001b[0m \u001b[0mmax_depth\u001b[0m\u001b[1;33m\n",
       "\u001b[0m        \u001b[0mself\u001b[0m\u001b[1;33m.\u001b[0m\u001b[0mmin_samples_split\u001b[0m \u001b[1;33m=\u001b[0m \u001b[0mmin_samples_split\u001b[0m\u001b[1;33m\n",
       "\u001b[0m        \u001b[0mself\u001b[0m\u001b[1;33m.\u001b[0m\u001b[0mmin_samples_leaf\u001b[0m \u001b[1;33m=\u001b[0m \u001b[0mmin_samples_leaf\u001b[0m\u001b[1;33m\n",
       "\u001b[0m        \u001b[0mself\u001b[0m\u001b[1;33m.\u001b[0m\u001b[0mmin_weight_fraction_leaf\u001b[0m \u001b[1;33m=\u001b[0m \u001b[0mmin_weight_fraction_leaf\u001b[0m\u001b[1;33m\n",
       "\u001b[0m        \u001b[0mself\u001b[0m\u001b[1;33m.\u001b[0m\u001b[0mmax_features\u001b[0m \u001b[1;33m=\u001b[0m \u001b[0mmax_features\u001b[0m\u001b[1;33m\n",
       "\u001b[0m        \u001b[0mself\u001b[0m\u001b[1;33m.\u001b[0m\u001b[0mmax_leaf_nodes\u001b[0m \u001b[1;33m=\u001b[0m \u001b[0mmax_leaf_nodes\u001b[0m\u001b[1;33m\n",
       "\u001b[0m        \u001b[0mself\u001b[0m\u001b[1;33m.\u001b[0m\u001b[0mmin_impurity_decrease\u001b[0m \u001b[1;33m=\u001b[0m \u001b[0mmin_impurity_decrease\u001b[0m\u001b[1;33m\n",
       "\u001b[0m        \u001b[0mself\u001b[0m\u001b[1;33m.\u001b[0m\u001b[0mmin_impurity_split\u001b[0m \u001b[1;33m=\u001b[0m \u001b[0mmin_impurity_split\u001b[0m\u001b[1;33m\n",
       "\u001b[0m        \u001b[0mself\u001b[0m\u001b[1;33m.\u001b[0m\u001b[0mccp_alpha\u001b[0m \u001b[1;33m=\u001b[0m \u001b[0mccp_alpha\u001b[0m\u001b[1;33m\u001b[0m\u001b[1;33m\u001b[0m\u001b[0m\n",
       "\u001b[1;31mFile:\u001b[0m           e:\\edureka_python-course\\edu-py\\lib\\site-packages\\sklearn\\ensemble\\_forest.py\n",
       "\u001b[1;31mType:\u001b[0m           ABCMeta\n",
       "\u001b[1;31mSubclasses:\u001b[0m     \n"
      ]
     },
     "metadata": {},
     "output_type": "display_data"
    }
   ],
   "source": [
    "??RandomForestClassifier"
   ]
  },
  {
   "cell_type": "code",
   "execution_count": 27,
   "metadata": {},
   "outputs": [],
   "source": [
    "model_decisionTree = DecisionTreeClassifier()\n",
    "#model_decisionTree.fit(train_x, train_y )\n",
    "#accuracy_score(test_y, model_decisionTree.predict(test_x))"
   ]
  },
  {
   "cell_type": "code",
   "execution_count": 54,
   "metadata": {},
   "outputs": [],
   "source": [
    "prm_grid = {\n",
    "    'n_estimators' : [1,5,25,50]+list(range(100,501,100))\n",
    "}"
   ]
  },
  {
   "cell_type": "code",
   "execution_count": 30,
   "metadata": {},
   "outputs": [
    {
     "data": {
      "text/plain": [
       "0.07035732916014606"
      ]
     },
     "execution_count": 30,
     "metadata": {},
     "output_type": "execute_result"
    }
   ],
   "source": [
    "cv_3fold = KFold(n_splits=3)\n",
    "scores_3fold = cross_val_score(model_decisionTree, df_raw.drop('Type', axis=1), df_raw.Type,\n",
    "                               scoring='accuracy', cv=cv_3fold, n_jobs=-1)\n",
    "np.mean(scores_3fold)"
   ]
  },
  {
   "cell_type": "code",
   "execution_count": 34,
   "metadata": {},
   "outputs": [],
   "source": [
    "model_RdForest = RandomForestClassifier()"
   ]
  },
  {
   "cell_type": "code",
   "execution_count": 62,
   "metadata": {},
   "outputs": [
    {
     "data": {
      "text/plain": [
       "GridSearchCV(cv=KFold(n_splits=10, random_state=None, shuffle=False),\n",
       "             estimator=RandomForestClassifier(),\n",
       "             param_grid={'n_estimators': [1, 5, 25, 50, 100, 200, 300, 400,\n",
       "                                          500]})"
      ]
     },
     "execution_count": 62,
     "metadata": {},
     "output_type": "execute_result"
    }
   ],
   "source": [
    "gsCSV = GridSearchCV(\n",
    "                     estimator=model_RdForest,\n",
    "                     param_grid=prm_grid,\n",
    "                     cv=cv_10fold\n",
    "                     \n",
    "        )\n",
    "gsCSV"
   ]
  },
  {
   "cell_type": "code",
   "execution_count": 63,
   "metadata": {},
   "outputs": [
    {
     "data": {
      "text/plain": [
       "GridSearchCV(cv=KFold(n_splits=10, random_state=None, shuffle=False),\n",
       "             estimator=RandomForestClassifier(),\n",
       "             param_grid={'n_estimators': [1, 5, 25, 50, 100, 200, 300, 400,\n",
       "                                          500]})"
      ]
     },
     "execution_count": 63,
     "metadata": {},
     "output_type": "execute_result"
    }
   ],
   "source": [
    "gsCSV.fit(df_raw.drop('Type', axis=1), df_raw.Type)"
   ]
  },
  {
   "cell_type": "code",
   "execution_count": 64,
   "metadata": {},
   "outputs": [
    {
     "data": {
      "text/plain": [
       "RandomForestClassifier(n_estimators=400)"
      ]
     },
     "execution_count": 64,
     "metadata": {},
     "output_type": "execute_result"
    }
   ],
   "source": [
    "gsCSV.best_estimator_"
   ]
  },
  {
   "cell_type": "code",
   "execution_count": null,
   "metadata": {},
   "outputs": [],
   "source": []
  }
 ],
 "metadata": {
  "kernelspec": {
   "display_name": "edureka",
   "language": "python",
   "name": "edureka"
  },
  "language_info": {
   "codemirror_mode": {
    "name": "ipython",
    "version": 3
   },
   "file_extension": ".py",
   "mimetype": "text/x-python",
   "name": "python",
   "nbconvert_exporter": "python",
   "pygments_lexer": "ipython3",
   "version": "3.8.3"
  }
 },
 "nbformat": 4,
 "nbformat_minor": 4
}
