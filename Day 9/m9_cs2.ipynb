{
 "cells": [
  {
   "cell_type": "code",
   "execution_count": 25,
   "metadata": {},
   "outputs": [],
   "source": [
    "import pandas as pd\n",
    "import numpy as np\n",
    "\n",
    "import matplotlib.pyplot as plt\n",
    "\n",
    "from sklearn.model_selection import train_test_split\n",
    "from sklearn.naive_bayes import GaussianNB\n",
    "from sklearn.metrics import accuracy_score, classification_report"
   ]
  },
  {
   "cell_type": "code",
   "execution_count": 15,
   "metadata": {},
   "outputs": [],
   "source": [
    "df = pd.read_csv('run_or_walk.csv',)\n",
    "#                 low_memory=False,\n",
    "                 #parse_dates=['date'],\n",
    "                 #infer_datetime_format=True )"
   ]
  },
  {
   "cell_type": "code",
   "execution_count": 16,
   "metadata": {},
   "outputs": [
    {
     "name": "stdout",
     "output_type": "stream",
     "text": [
      "<class 'pandas.core.frame.DataFrame'>\n",
      "RangeIndex: 88588 entries, 0 to 88587\n",
      "Data columns (total 11 columns):\n",
      " #   Column          Non-Null Count  Dtype  \n",
      "---  ------          --------------  -----  \n",
      " 0   date            88588 non-null  object \n",
      " 1   time            88588 non-null  object \n",
      " 2   username        88588 non-null  object \n",
      " 3   wrist           88588 non-null  int64  \n",
      " 4   activity        88588 non-null  int64  \n",
      " 5   acceleration_x  88588 non-null  float64\n",
      " 6   acceleration_y  88588 non-null  float64\n",
      " 7   acceleration_z  88588 non-null  float64\n",
      " 8   gyro_x          88588 non-null  float64\n",
      " 9   gyro_y          88588 non-null  float64\n",
      " 10  gyro_z          88588 non-null  float64\n",
      "dtypes: float64(6), int64(2), object(3)\n",
      "memory usage: 7.4+ MB\n"
     ]
    }
   ],
   "source": [
    "df.info()"
   ]
  },
  {
   "cell_type": "code",
   "execution_count": 17,
   "metadata": {},
   "outputs": [
    {
     "data": {
      "text/html": [
       "<div>\n",
       "<style scoped>\n",
       "    .dataframe tbody tr th:only-of-type {\n",
       "        vertical-align: middle;\n",
       "    }\n",
       "\n",
       "    .dataframe tbody tr th {\n",
       "        vertical-align: top;\n",
       "    }\n",
       "\n",
       "    .dataframe thead th {\n",
       "        text-align: right;\n",
       "    }\n",
       "</style>\n",
       "<table border=\"1\" class=\"dataframe\">\n",
       "  <thead>\n",
       "    <tr style=\"text-align: right;\">\n",
       "      <th></th>\n",
       "      <th>0</th>\n",
       "      <th>1</th>\n",
       "      <th>2</th>\n",
       "      <th>3</th>\n",
       "      <th>4</th>\n",
       "    </tr>\n",
       "  </thead>\n",
       "  <tbody>\n",
       "    <tr>\n",
       "      <th>date</th>\n",
       "      <td>2017-6-30</td>\n",
       "      <td>2017-6-30</td>\n",
       "      <td>2017-6-30</td>\n",
       "      <td>2017-6-30</td>\n",
       "      <td>2017-6-30</td>\n",
       "    </tr>\n",
       "    <tr>\n",
       "      <th>time</th>\n",
       "      <td>13:51:15:847724020</td>\n",
       "      <td>13:51:16:246945023</td>\n",
       "      <td>13:51:16:446233987</td>\n",
       "      <td>13:51:16:646117985</td>\n",
       "      <td>13:51:16:846738994</td>\n",
       "    </tr>\n",
       "    <tr>\n",
       "      <th>username</th>\n",
       "      <td>viktor</td>\n",
       "      <td>viktor</td>\n",
       "      <td>viktor</td>\n",
       "      <td>viktor</td>\n",
       "      <td>viktor</td>\n",
       "    </tr>\n",
       "    <tr>\n",
       "      <th>wrist</th>\n",
       "      <td>0</td>\n",
       "      <td>0</td>\n",
       "      <td>0</td>\n",
       "      <td>0</td>\n",
       "      <td>0</td>\n",
       "    </tr>\n",
       "    <tr>\n",
       "      <th>activity</th>\n",
       "      <td>0</td>\n",
       "      <td>0</td>\n",
       "      <td>0</td>\n",
       "      <td>0</td>\n",
       "      <td>0</td>\n",
       "    </tr>\n",
       "    <tr>\n",
       "      <th>acceleration_x</th>\n",
       "      <td>0.265</td>\n",
       "      <td>0.6722</td>\n",
       "      <td>0.4399</td>\n",
       "      <td>0.3031</td>\n",
       "      <td>0.4814</td>\n",
       "    </tr>\n",
       "    <tr>\n",
       "      <th>acceleration_y</th>\n",
       "      <td>-0.7814</td>\n",
       "      <td>-1.1233</td>\n",
       "      <td>-1.4817</td>\n",
       "      <td>-0.8125</td>\n",
       "      <td>-0.9312</td>\n",
       "    </tr>\n",
       "    <tr>\n",
       "      <th>acceleration_z</th>\n",
       "      <td>-0.0076</td>\n",
       "      <td>-0.2344</td>\n",
       "      <td>0.0722</td>\n",
       "      <td>0.0888</td>\n",
       "      <td>0.0359</td>\n",
       "    </tr>\n",
       "    <tr>\n",
       "      <th>gyro_x</th>\n",
       "      <td>-0.059</td>\n",
       "      <td>-0.1757</td>\n",
       "      <td>-0.9105</td>\n",
       "      <td>0.1199</td>\n",
       "      <td>0.0527</td>\n",
       "    </tr>\n",
       "    <tr>\n",
       "      <th>gyro_y</th>\n",
       "      <td>0.0325</td>\n",
       "      <td>0.0208</td>\n",
       "      <td>0.1063</td>\n",
       "      <td>-0.4099</td>\n",
       "      <td>0.4379</td>\n",
       "    </tr>\n",
       "    <tr>\n",
       "      <th>gyro_z</th>\n",
       "      <td>-2.9296</td>\n",
       "      <td>0.1269</td>\n",
       "      <td>-2.4367</td>\n",
       "      <td>-2.9336</td>\n",
       "      <td>2.4922</td>\n",
       "    </tr>\n",
       "  </tbody>\n",
       "</table>\n",
       "</div>"
      ],
      "text/plain": [
       "                                 0                   1                   2  \\\n",
       "date                     2017-6-30           2017-6-30           2017-6-30   \n",
       "time            13:51:15:847724020  13:51:16:246945023  13:51:16:446233987   \n",
       "username                    viktor              viktor              viktor   \n",
       "wrist                            0                   0                   0   \n",
       "activity                         0                   0                   0   \n",
       "acceleration_x               0.265              0.6722              0.4399   \n",
       "acceleration_y             -0.7814             -1.1233             -1.4817   \n",
       "acceleration_z             -0.0076             -0.2344              0.0722   \n",
       "gyro_x                      -0.059             -0.1757             -0.9105   \n",
       "gyro_y                      0.0325              0.0208              0.1063   \n",
       "gyro_z                     -2.9296              0.1269             -2.4367   \n",
       "\n",
       "                                 3                   4  \n",
       "date                     2017-6-30           2017-6-30  \n",
       "time            13:51:16:646117985  13:51:16:846738994  \n",
       "username                    viktor              viktor  \n",
       "wrist                            0                   0  \n",
       "activity                         0                   0  \n",
       "acceleration_x              0.3031              0.4814  \n",
       "acceleration_y             -0.8125             -0.9312  \n",
       "acceleration_z              0.0888              0.0359  \n",
       "gyro_x                      0.1199              0.0527  \n",
       "gyro_y                     -0.4099              0.4379  \n",
       "gyro_z                     -2.9336              2.4922  "
      ]
     },
     "execution_count": 17,
     "metadata": {},
     "output_type": "execute_result"
    }
   ],
   "source": [
    "df.head().transpose()"
   ]
  },
  {
   "cell_type": "code",
   "execution_count": 22,
   "metadata": {},
   "outputs": [],
   "source": [
    "y = df.activity\n",
    "drop_cols = ['activity', 'username', 'date', 'time']\n",
    "x = df.drop(drop_cols, axis=1)"
   ]
  },
  {
   "cell_type": "code",
   "execution_count": 23,
   "metadata": {},
   "outputs": [],
   "source": [
    "trainX, testX, trainY, testY = train_test_split(x, y,\n",
    "                                                test_size=0.3,\n",
    "                                                random_state=0)"
   ]
  },
  {
   "cell_type": "code",
   "execution_count": 27,
   "metadata": {},
   "outputs": [
    {
     "data": {
      "text/plain": [
       "0.9567671294728525"
      ]
     },
     "execution_count": 27,
     "metadata": {},
     "output_type": "execute_result"
    }
   ],
   "source": [
    "model_NB = GaussianNB().fit(trainX, trainY)\n",
    "y_pred = model_NB.predict(testX)\n",
    "accuracy_score(testY, y_pred)"
   ]
  },
  {
   "cell_type": "code",
   "execution_count": 29,
   "metadata": {},
   "outputs": [
    {
     "name": "stdout",
     "output_type": "stream",
     "text": [
      "              precision    recall  f1-score   support\n",
      "\n",
      "           0       0.93      0.99      0.96     13238\n",
      "           1       0.99      0.92      0.96     13339\n",
      "\n",
      "    accuracy                           0.96     26577\n",
      "   macro avg       0.96      0.96      0.96     26577\n",
      "weighted avg       0.96      0.96      0.96     26577\n",
      "\n"
     ]
    }
   ],
   "source": [
    "print(classification_report(testY, y_pred))"
   ]
  },
  {
   "cell_type": "code",
   "execution_count": 31,
   "metadata": {},
   "outputs": [
    {
     "data": {
      "text/plain": [
       "0.9570681416262181"
      ]
     },
     "execution_count": 31,
     "metadata": {},
     "output_type": "execute_result"
    }
   ],
   "source": [
    "trainX, testX, trainY, testY = train_test_split(\n",
    "    x[['acceleration_x', 'acceleration_y', 'acceleration_z']],\n",
    "    y,\n",
    "    test_size=0.3,\n",
    "    random_state=0\n",
    ")\n",
    "model_NB = GaussianNB().fit(trainX, trainY)\n",
    "y_pred = model_NB.predict(testX)\n",
    "accuracy_score(testY, y_pred)"
   ]
  },
  {
   "cell_type": "code",
   "execution_count": 32,
   "metadata": {},
   "outputs": [
    {
     "data": {
      "text/plain": [
       "0.6471008766978967"
      ]
     },
     "execution_count": 32,
     "metadata": {},
     "output_type": "execute_result"
    }
   ],
   "source": [
    "trainX, testX, trainY, testY = train_test_split(\n",
    "    x[['gyro_x', 'gyro_y', 'gyro_z']],\n",
    "    y,\n",
    "    test_size=0.3,\n",
    "    random_state=0\n",
    ")\n",
    "model_NB = GaussianNB().fit(trainX, trainY)\n",
    "y_pred = model_NB.predict(testX)\n",
    "accuracy_score(testY, y_pred)"
   ]
  },
  {
   "cell_type": "markdown",
   "metadata": {},
   "source": [
    ">## The model has a 95% accuracy with just the acceleration features however a model with just gyro features resulted in only ~65% accuracy"
   ]
  },
  {
   "cell_type": "code",
   "execution_count": null,
   "metadata": {},
   "outputs": [],
   "source": []
  }
 ],
 "metadata": {
  "kernelspec": {
   "display_name": "edureka",
   "language": "python",
   "name": "edureka"
  },
  "language_info": {
   "codemirror_mode": {
    "name": "ipython",
    "version": 3
   },
   "file_extension": ".py",
   "mimetype": "text/x-python",
   "name": "python",
   "nbconvert_exporter": "python",
   "pygments_lexer": "ipython3",
   "version": "3.8.3"
  }
 },
 "nbformat": 4,
 "nbformat_minor": 4
}
