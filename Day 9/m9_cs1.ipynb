{
 "cells": [
  {
   "cell_type": "code",
   "execution_count": 27,
   "metadata": {},
   "outputs": [],
   "source": [
    "import pandas as pd\n",
    "import numpy as np\n",
    "\n",
    "import matplotlib.pyplot as plt\n",
    "\n",
    "from sklearn.model_selection import KFold\n",
    "from sklearn.model_selection import GridSearchCV\n",
    "from sklearn.model_selection import train_test_split\n",
    "from sklearn.naive_bayes import GaussianNB\n",
    "from sklearn.ensemble import RandomForestClassifier\n",
    "from sklearn.tree import DecisionTreeClassifier\n",
    "from sklearn.svm import SVC\n",
    "from sklearn.ensemble import GradientBoostingClassifier\n",
    "from sklearn.metrics import accuracy_score, log_loss"
   ]
  },
  {
   "cell_type": "code",
   "execution_count": 2,
   "metadata": {},
   "outputs": [],
   "source": [
    "df = pd.read_csv('voice-classification.csv', low_memory=False)"
   ]
  },
  {
   "cell_type": "code",
   "execution_count": 3,
   "metadata": {},
   "outputs": [
    {
     "name": "stdout",
     "output_type": "stream",
     "text": [
      "<class 'pandas.core.frame.DataFrame'>\n",
      "RangeIndex: 3168 entries, 0 to 3167\n",
      "Data columns (total 21 columns):\n",
      " #   Column    Non-Null Count  Dtype  \n",
      "---  ------    --------------  -----  \n",
      " 0   meanfreq  3168 non-null   float64\n",
      " 1   sd        3168 non-null   float64\n",
      " 2   median    3168 non-null   float64\n",
      " 3   Q25       3168 non-null   float64\n",
      " 4   Q75       3168 non-null   float64\n",
      " 5   IQR       3168 non-null   float64\n",
      " 6   skew      3168 non-null   float64\n",
      " 7   kurt      3168 non-null   float64\n",
      " 8   sp.ent    3168 non-null   float64\n",
      " 9   sfm       3168 non-null   float64\n",
      " 10  mode      3168 non-null   float64\n",
      " 11  centroid  3168 non-null   float64\n",
      " 12  meanfun   3168 non-null   float64\n",
      " 13  minfun    3168 non-null   float64\n",
      " 14  maxfun    3168 non-null   float64\n",
      " 15  meandom   3168 non-null   float64\n",
      " 16  mindom    3168 non-null   float64\n",
      " 17  maxdom    3168 non-null   float64\n",
      " 18  dfrange   3168 non-null   float64\n",
      " 19  modindx   3168 non-null   float64\n",
      " 20  label     3168 non-null   object \n",
      "dtypes: float64(20), object(1)\n",
      "memory usage: 519.9+ KB\n"
     ]
    }
   ],
   "source": [
    "df.info()"
   ]
  },
  {
   "cell_type": "code",
   "execution_count": 4,
   "metadata": {},
   "outputs": [
    {
     "data": {
      "text/plain": [
       "Index(['meanfreq', 'sd', 'median', 'Q25', 'Q75', 'IQR', 'skew', 'kurt',\n",
       "       'sp.ent', 'sfm', 'mode', 'centroid', 'meanfun', 'minfun', 'maxfun',\n",
       "       'meandom', 'mindom', 'maxdom', 'dfrange', 'modindx', 'label'],\n",
       "      dtype='object')"
      ]
     },
     "execution_count": 4,
     "metadata": {},
     "output_type": "execute_result"
    }
   ],
   "source": [
    "df.columns"
   ]
  },
  {
   "cell_type": "code",
   "execution_count": 5,
   "metadata": {},
   "outputs": [
    {
     "data": {
      "text/html": [
       "<div>\n",
       "<style scoped>\n",
       "    .dataframe tbody tr th:only-of-type {\n",
       "        vertical-align: middle;\n",
       "    }\n",
       "\n",
       "    .dataframe tbody tr th {\n",
       "        vertical-align: top;\n",
       "    }\n",
       "\n",
       "    .dataframe thead th {\n",
       "        text-align: right;\n",
       "    }\n",
       "</style>\n",
       "<table border=\"1\" class=\"dataframe\">\n",
       "  <thead>\n",
       "    <tr style=\"text-align: right;\">\n",
       "      <th></th>\n",
       "      <th>0</th>\n",
       "      <th>1</th>\n",
       "      <th>2</th>\n",
       "      <th>3</th>\n",
       "      <th>4</th>\n",
       "    </tr>\n",
       "  </thead>\n",
       "  <tbody>\n",
       "    <tr>\n",
       "      <th>meanfreq</th>\n",
       "      <td>0.059781</td>\n",
       "      <td>0.0660087</td>\n",
       "      <td>0.0773155</td>\n",
       "      <td>0.151228</td>\n",
       "      <td>0.13512</td>\n",
       "    </tr>\n",
       "    <tr>\n",
       "      <th>sd</th>\n",
       "      <td>0.0642413</td>\n",
       "      <td>0.06731</td>\n",
       "      <td>0.0838294</td>\n",
       "      <td>0.0721106</td>\n",
       "      <td>0.0791461</td>\n",
       "    </tr>\n",
       "    <tr>\n",
       "      <th>median</th>\n",
       "      <td>0.0320269</td>\n",
       "      <td>0.0402287</td>\n",
       "      <td>0.0367185</td>\n",
       "      <td>0.158011</td>\n",
       "      <td>0.124656</td>\n",
       "    </tr>\n",
       "    <tr>\n",
       "      <th>Q25</th>\n",
       "      <td>0.0150715</td>\n",
       "      <td>0.0194139</td>\n",
       "      <td>0.00870106</td>\n",
       "      <td>0.0965817</td>\n",
       "      <td>0.0787202</td>\n",
       "    </tr>\n",
       "    <tr>\n",
       "      <th>Q75</th>\n",
       "      <td>0.0901934</td>\n",
       "      <td>0.0926662</td>\n",
       "      <td>0.131908</td>\n",
       "      <td>0.207955</td>\n",
       "      <td>0.206045</td>\n",
       "    </tr>\n",
       "    <tr>\n",
       "      <th>IQR</th>\n",
       "      <td>0.075122</td>\n",
       "      <td>0.0732523</td>\n",
       "      <td>0.123207</td>\n",
       "      <td>0.111374</td>\n",
       "      <td>0.127325</td>\n",
       "    </tr>\n",
       "    <tr>\n",
       "      <th>skew</th>\n",
       "      <td>12.8635</td>\n",
       "      <td>22.4233</td>\n",
       "      <td>30.7572</td>\n",
       "      <td>1.23283</td>\n",
       "      <td>1.10117</td>\n",
       "    </tr>\n",
       "    <tr>\n",
       "      <th>kurt</th>\n",
       "      <td>274.403</td>\n",
       "      <td>634.614</td>\n",
       "      <td>1024.93</td>\n",
       "      <td>4.1773</td>\n",
       "      <td>4.33371</td>\n",
       "    </tr>\n",
       "    <tr>\n",
       "      <th>sp.ent</th>\n",
       "      <td>0.893369</td>\n",
       "      <td>0.892193</td>\n",
       "      <td>0.846389</td>\n",
       "      <td>0.963322</td>\n",
       "      <td>0.971955</td>\n",
       "    </tr>\n",
       "    <tr>\n",
       "      <th>sfm</th>\n",
       "      <td>0.491918</td>\n",
       "      <td>0.513724</td>\n",
       "      <td>0.478905</td>\n",
       "      <td>0.727232</td>\n",
       "      <td>0.783568</td>\n",
       "    </tr>\n",
       "    <tr>\n",
       "      <th>mode</th>\n",
       "      <td>0</td>\n",
       "      <td>0</td>\n",
       "      <td>0</td>\n",
       "      <td>0.0838782</td>\n",
       "      <td>0.104261</td>\n",
       "    </tr>\n",
       "    <tr>\n",
       "      <th>centroid</th>\n",
       "      <td>0.059781</td>\n",
       "      <td>0.0660087</td>\n",
       "      <td>0.0773155</td>\n",
       "      <td>0.151228</td>\n",
       "      <td>0.13512</td>\n",
       "    </tr>\n",
       "    <tr>\n",
       "      <th>meanfun</th>\n",
       "      <td>0.0842791</td>\n",
       "      <td>0.107937</td>\n",
       "      <td>0.0987063</td>\n",
       "      <td>0.0889648</td>\n",
       "      <td>0.106398</td>\n",
       "    </tr>\n",
       "    <tr>\n",
       "      <th>minfun</th>\n",
       "      <td>0.0157017</td>\n",
       "      <td>0.0158259</td>\n",
       "      <td>0.0156556</td>\n",
       "      <td>0.0177976</td>\n",
       "      <td>0.0169312</td>\n",
       "    </tr>\n",
       "    <tr>\n",
       "      <th>maxfun</th>\n",
       "      <td>0.275862</td>\n",
       "      <td>0.25</td>\n",
       "      <td>0.271186</td>\n",
       "      <td>0.25</td>\n",
       "      <td>0.266667</td>\n",
       "    </tr>\n",
       "    <tr>\n",
       "      <th>meandom</th>\n",
       "      <td>0.0078125</td>\n",
       "      <td>0.00901442</td>\n",
       "      <td>0.00799006</td>\n",
       "      <td>0.201497</td>\n",
       "      <td>0.712812</td>\n",
       "    </tr>\n",
       "    <tr>\n",
       "      <th>mindom</th>\n",
       "      <td>0.0078125</td>\n",
       "      <td>0.0078125</td>\n",
       "      <td>0.0078125</td>\n",
       "      <td>0.0078125</td>\n",
       "      <td>0.0078125</td>\n",
       "    </tr>\n",
       "    <tr>\n",
       "      <th>maxdom</th>\n",
       "      <td>0.0078125</td>\n",
       "      <td>0.0546875</td>\n",
       "      <td>0.015625</td>\n",
       "      <td>0.5625</td>\n",
       "      <td>5.48438</td>\n",
       "    </tr>\n",
       "    <tr>\n",
       "      <th>dfrange</th>\n",
       "      <td>0</td>\n",
       "      <td>0.046875</td>\n",
       "      <td>0.0078125</td>\n",
       "      <td>0.554688</td>\n",
       "      <td>5.47656</td>\n",
       "    </tr>\n",
       "    <tr>\n",
       "      <th>modindx</th>\n",
       "      <td>0</td>\n",
       "      <td>0.0526316</td>\n",
       "      <td>0.0465116</td>\n",
       "      <td>0.247119</td>\n",
       "      <td>0.208274</td>\n",
       "    </tr>\n",
       "    <tr>\n",
       "      <th>label</th>\n",
       "      <td>male</td>\n",
       "      <td>male</td>\n",
       "      <td>male</td>\n",
       "      <td>male</td>\n",
       "      <td>male</td>\n",
       "    </tr>\n",
       "  </tbody>\n",
       "</table>\n",
       "</div>"
      ],
      "text/plain": [
       "                  0           1           2          3          4\n",
       "meanfreq   0.059781   0.0660087   0.0773155   0.151228    0.13512\n",
       "sd        0.0642413     0.06731   0.0838294  0.0721106  0.0791461\n",
       "median    0.0320269   0.0402287   0.0367185   0.158011   0.124656\n",
       "Q25       0.0150715   0.0194139  0.00870106  0.0965817  0.0787202\n",
       "Q75       0.0901934   0.0926662    0.131908   0.207955   0.206045\n",
       "IQR        0.075122   0.0732523    0.123207   0.111374   0.127325\n",
       "skew        12.8635     22.4233     30.7572    1.23283    1.10117\n",
       "kurt        274.403     634.614     1024.93     4.1773    4.33371\n",
       "sp.ent     0.893369    0.892193    0.846389   0.963322   0.971955\n",
       "sfm        0.491918    0.513724    0.478905   0.727232   0.783568\n",
       "mode              0           0           0  0.0838782   0.104261\n",
       "centroid   0.059781   0.0660087   0.0773155   0.151228    0.13512\n",
       "meanfun   0.0842791    0.107937   0.0987063  0.0889648   0.106398\n",
       "minfun    0.0157017   0.0158259   0.0156556  0.0177976  0.0169312\n",
       "maxfun     0.275862        0.25    0.271186       0.25   0.266667\n",
       "meandom   0.0078125  0.00901442  0.00799006   0.201497   0.712812\n",
       "mindom    0.0078125   0.0078125   0.0078125  0.0078125  0.0078125\n",
       "maxdom    0.0078125   0.0546875    0.015625     0.5625    5.48438\n",
       "dfrange           0    0.046875   0.0078125   0.554688    5.47656\n",
       "modindx           0   0.0526316   0.0465116   0.247119   0.208274\n",
       "label          male        male        male       male       male"
      ]
     },
     "execution_count": 5,
     "metadata": {},
     "output_type": "execute_result"
    }
   ],
   "source": [
    "df.head().transpose()"
   ]
  },
  {
   "cell_type": "code",
   "execution_count": 8,
   "metadata": {},
   "outputs": [],
   "source": [
    "target = df.label.copy()\n",
    "df.drop('label', axis=1, inplace=True)"
   ]
  },
  {
   "cell_type": "code",
   "execution_count": 10,
   "metadata": {},
   "outputs": [],
   "source": [
    "trainX, testX, trainY, testY = train_test_split(df,\n",
    "                                                target,\n",
    "                                                random_state=0,\n",
    "                                                test_size=0.3)"
   ]
  },
  {
   "cell_type": "code",
   "execution_count": 11,
   "metadata": {},
   "outputs": [],
   "source": [
    "model_Decision = DecisionTreeClassifier()\n",
    "model_RandomForest = RandomForestClassifier()\n",
    "model_SVC = SVC()\n",
    "model_bayes = GaussianNB()\n",
    "model_Gradient = GradientBoostingClassifier()\n",
    "\n",
    "models = [model_Decision,\n",
    "          model_RandomForest,\n",
    "          model_SVC,\n",
    "          model_bayes,\n",
    "          model_Gradient]\n",
    "\n",
    "kfold_10 = KFold(n_splits=5)\n",
    "\n",
    "n_jobs = -1"
   ]
  },
  {
   "cell_type": "code",
   "execution_count": 29,
   "metadata": {},
   "outputs": [],
   "source": [
    "class Classifiers:\n",
    "    models          = []\n",
    "    probs_pred      = []\n",
    "    preds           = []\n",
    "    accuracy_scores = []\n",
    "    #log_losses      = []\n",
    "    \n",
    "    #def get_log_losses(self):\n",
    "    #    return self.log_losses\n",
    "    \n",
    "    def get_accuracy_scores(self):\n",
    "        return self.accuracy_scores\n",
    "    \n",
    "    def calculate_scores(self, testY):\n",
    "        y_true = testY\n",
    "        for x in range(len(self.models)):\n",
    "            y_pred = self.preds[x]\n",
    "            \n",
    "            accScore = accuracy_score(y_true, y_pred)\n",
    "            \n",
    "            #logLoss = log_loss(testY, self.probs_pred[x])\n",
    "            #logLoss = log_loss(testY, self.preds[x])\n",
    "            \n",
    "            self.accuracy_scores.append(accScore)\n",
    "            #self.log_losses.append(logLoss)\n",
    "            print(f'{self.models[x]} : {round(accScore*100,2)} % ')\n",
    "    \n",
    "    def predict(self, testX):\n",
    "        for model in self.models:\n",
    "            tmp_pred = model.predict(testX)\n",
    "            #tmp_prob = model.predict_proba(testX)\n",
    "            self.preds.append(tmp_pred)\n",
    "            #self.probs_pred.append(tmp_prob)\n",
    "    \n",
    "    def fit(self, trainX, trainY):\n",
    "        for model in self.models:\n",
    "            model.fit(trainX, trainY)\n",
    "        \n",
    "    def __init__(self):\n",
    "        model_Decision = DecisionTreeClassifier()\n",
    "        model_RandomForest = RandomForestClassifier()\n",
    "        model_SVC = SVC()\n",
    "        model_bayes = GaussianNB()\n",
    "        model_Gradient = GradientBoostingClassifier()\n",
    "\n",
    "        self.models = [model_Decision,\n",
    "                  model_RandomForest,\n",
    "                  model_SVC,\n",
    "                  model_bayes,\n",
    "                  model_Gradient\n",
    "                 ]"
   ]
  },
  {
   "cell_type": "code",
   "execution_count": 30,
   "metadata": {},
   "outputs": [
    {
     "name": "stdout",
     "output_type": "stream",
     "text": [
      "DecisionTreeClassifier() : 95.58 % \n",
      "RandomForestClassifier() : 98.63 % \n",
      "SVC() : 68.77 % \n",
      "GaussianNB() : 89.27 % \n",
      "GradientBoostingClassifier() : 98.11 % \n"
     ]
    }
   ],
   "source": [
    "models_class = Classifiers()\n",
    "models_class.fit(trainX, trainY)\n",
    "models_class.predict(testX)\n",
    "models_class.calculate_scores(testY)"
   ]
  },
  {
   "cell_type": "markdown",
   "metadata": {},
   "source": [
    ">## RandomForestClassifier"
   ]
  },
  {
   "cell_type": "code",
   "execution_count": 32,
   "metadata": {},
   "outputs": [
    {
     "data": {
      "text/plain": [
       "GridSearchCV(cv=KFold(n_splits=5, random_state=None, shuffle=False),\n",
       "             estimator=RandomForestClassifier(n_jobs=-1),\n",
       "             param_grid={'max_depth': [1, 2, 3, 4, 5, 6, 7, 8, 9, 10, 11, 12,\n",
       "                                       13, 14, 15, 16],\n",
       "                         'n_estimators': [1, 5, 10, 25, 50, 100, 200, 300, 400,\n",
       "                                          500]})"
      ]
     },
     "execution_count": 32,
     "metadata": {},
     "output_type": "execute_result"
    }
   ],
   "source": [
    "RandomForest = RandomForestClassifier(n_jobs = -1)\n",
    "kfold_10 = KFold(n_splits=5)\n",
    "prm_grd = {\n",
    "    'n_estimators' : [1, 5, 10, 25, 50] + list(range(100,501,100)),\n",
    "    'max_depth'    : list(range(1,17))\n",
    "}\n",
    "gsCV = GridSearchCV(estimator=RandomForest,\n",
    "                    param_grid=prm_grd,\n",
    "                    cv=kfold_10,\n",
    "       )\n",
    "gsCV.fit(trainX, trainY)\n",
    "\n"
   ]
  },
  {
   "cell_type": "code",
   "execution_count": 34,
   "metadata": {},
   "outputs": [
    {
     "data": {
      "text/plain": [
       "0.9797032924572427"
      ]
     },
     "execution_count": 34,
     "metadata": {},
     "output_type": "execute_result"
    }
   ],
   "source": [
    "gsCV.best_score_"
   ]
  },
  {
   "cell_type": "code",
   "execution_count": 36,
   "metadata": {},
   "outputs": [
    {
     "data": {
      "text/plain": [
       "0.9852786540483701"
      ]
     },
     "execution_count": 36,
     "metadata": {},
     "output_type": "execute_result"
    }
   ],
   "source": [
    "RandomForest = RandomForestClassifier(max_depth=9, n_estimators=300, n_jobs=-1)\n",
    "RandomForest.fit(trainX, trainY)\n",
    "accuracy_score(testY,RandomForest.predict(testX))"
   ]
  },
  {
   "cell_type": "code",
   "execution_count": null,
   "metadata": {},
   "outputs": [],
   "source": []
  }
 ],
 "metadata": {
  "kernelspec": {
   "display_name": "edureka",
   "language": "python",
   "name": "edureka"
  },
  "language_info": {
   "codemirror_mode": {
    "name": "ipython",
    "version": 3
   },
   "file_extension": ".py",
   "mimetype": "text/x-python",
   "name": "python",
   "nbconvert_exporter": "python",
   "pygments_lexer": "ipython3",
   "version": "3.8.3"
  }
 },
 "nbformat": 4,
 "nbformat_minor": 4
}
