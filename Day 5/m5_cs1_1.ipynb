{
 "cells": [
  {
   "cell_type": "code",
   "execution_count": 1,
   "metadata": {},
   "outputs": [],
   "source": [
    "import pandas as pd\n",
    "import numpy as np\n",
    "import matplotlib.pyplot as plt"
   ]
  },
  {
   "cell_type": "code",
   "execution_count": 2,
   "metadata": {},
   "outputs": [],
   "source": [
    "DATA_PATH = '/home/h4rsh4/learn/Edureka_Python-Course/Data Sources/Day_5/'"
   ]
  },
  {
   "cell_type": "code",
   "execution_count": 3,
   "metadata": {},
   "outputs": [
    {
     "data": {
      "text/html": [
       "<div>\n",
       "<style scoped>\n",
       "    .dataframe tbody tr th:only-of-type {\n",
       "        vertical-align: middle;\n",
       "    }\n",
       "\n",
       "    .dataframe tbody tr th {\n",
       "        vertical-align: top;\n",
       "    }\n",
       "\n",
       "    .dataframe thead th {\n",
       "        text-align: right;\n",
       "    }\n",
       "</style>\n",
       "<table border=\"1\" class=\"dataframe\">\n",
       "  <thead>\n",
       "    <tr style=\"text-align: right;\">\n",
       "      <th></th>\n",
       "      <th>Movie</th>\n",
       "      <th>LeadStudio</th>\n",
       "      <th>RottenTomatoes</th>\n",
       "      <th>AudienceScore</th>\n",
       "      <th>Story</th>\n",
       "      <th>Genre</th>\n",
       "      <th>TheatersOpenWeek</th>\n",
       "      <th>OpeningWeekend</th>\n",
       "      <th>BOAvgOpenWeekend</th>\n",
       "      <th>DomesticGross</th>\n",
       "      <th>ForeignGross</th>\n",
       "      <th>WorldGross</th>\n",
       "      <th>Budget</th>\n",
       "      <th>Profitability</th>\n",
       "      <th>OpenProfit</th>\n",
       "      <th>Year</th>\n",
       "    </tr>\n",
       "  </thead>\n",
       "  <tbody>\n",
       "    <tr>\n",
       "      <th>0</th>\n",
       "      <td>Spider-Man 3</td>\n",
       "      <td>Sony</td>\n",
       "      <td>61.0</td>\n",
       "      <td>54.0</td>\n",
       "      <td>Metamorphosis</td>\n",
       "      <td>Action</td>\n",
       "      <td>4252.0</td>\n",
       "      <td>151.1</td>\n",
       "      <td>35540.0</td>\n",
       "      <td>336.53</td>\n",
       "      <td>554.34</td>\n",
       "      <td>890.87</td>\n",
       "      <td>258.0</td>\n",
       "      <td>345.30</td>\n",
       "      <td>58.57</td>\n",
       "      <td>2007</td>\n",
       "    </tr>\n",
       "    <tr>\n",
       "      <th>1</th>\n",
       "      <td>Shrek the Third</td>\n",
       "      <td>Paramount</td>\n",
       "      <td>42.0</td>\n",
       "      <td>57.0</td>\n",
       "      <td>Quest</td>\n",
       "      <td>Animation</td>\n",
       "      <td>4122.0</td>\n",
       "      <td>121.6</td>\n",
       "      <td>29507.0</td>\n",
       "      <td>322.72</td>\n",
       "      <td>476.24</td>\n",
       "      <td>798.96</td>\n",
       "      <td>160.0</td>\n",
       "      <td>499.35</td>\n",
       "      <td>76.00</td>\n",
       "      <td>2007</td>\n",
       "    </tr>\n",
       "    <tr>\n",
       "      <th>2</th>\n",
       "      <td>Transformers</td>\n",
       "      <td>Paramount</td>\n",
       "      <td>57.0</td>\n",
       "      <td>89.0</td>\n",
       "      <td>Monster Force</td>\n",
       "      <td>Action</td>\n",
       "      <td>4011.0</td>\n",
       "      <td>70.5</td>\n",
       "      <td>17577.0</td>\n",
       "      <td>319.25</td>\n",
       "      <td>390.46</td>\n",
       "      <td>709.71</td>\n",
       "      <td>150.0</td>\n",
       "      <td>473.14</td>\n",
       "      <td>47.00</td>\n",
       "      <td>2007</td>\n",
       "    </tr>\n",
       "    <tr>\n",
       "      <th>3</th>\n",
       "      <td>Pirates of the Caribbean: At World's End</td>\n",
       "      <td>Disney</td>\n",
       "      <td>45.0</td>\n",
       "      <td>74.0</td>\n",
       "      <td>Rescue</td>\n",
       "      <td>Action</td>\n",
       "      <td>4362.0</td>\n",
       "      <td>114.7</td>\n",
       "      <td>26302.0</td>\n",
       "      <td>309.42</td>\n",
       "      <td>654.00</td>\n",
       "      <td>963.42</td>\n",
       "      <td>300.0</td>\n",
       "      <td>321.14</td>\n",
       "      <td>38.23</td>\n",
       "      <td>2007</td>\n",
       "    </tr>\n",
       "    <tr>\n",
       "      <th>4</th>\n",
       "      <td>Harry Potter and the Order of the Phoenix</td>\n",
       "      <td>Warner Bros</td>\n",
       "      <td>78.0</td>\n",
       "      <td>82.0</td>\n",
       "      <td>Quest</td>\n",
       "      <td>Adventure</td>\n",
       "      <td>4285.0</td>\n",
       "      <td>77.1</td>\n",
       "      <td>17998.0</td>\n",
       "      <td>292.00</td>\n",
       "      <td>647.88</td>\n",
       "      <td>939.89</td>\n",
       "      <td>150.0</td>\n",
       "      <td>626.59</td>\n",
       "      <td>51.40</td>\n",
       "      <td>2007</td>\n",
       "    </tr>\n",
       "  </tbody>\n",
       "</table>\n",
       "</div>"
      ],
      "text/plain": [
       "                                       Movie   LeadStudio  RottenTomatoes  \\\n",
       "0                               Spider-Man 3         Sony            61.0   \n",
       "1                            Shrek the Third    Paramount            42.0   \n",
       "2                               Transformers    Paramount            57.0   \n",
       "3   Pirates of the Caribbean: At World's End       Disney            45.0   \n",
       "4  Harry Potter and the Order of the Phoenix  Warner Bros            78.0   \n",
       "\n",
       "   AudienceScore          Story      Genre  TheatersOpenWeek  OpeningWeekend  \\\n",
       "0           54.0  Metamorphosis     Action            4252.0           151.1   \n",
       "1           57.0          Quest  Animation            4122.0           121.6   \n",
       "2           89.0  Monster Force     Action            4011.0            70.5   \n",
       "3           74.0         Rescue     Action            4362.0           114.7   \n",
       "4           82.0          Quest  Adventure            4285.0            77.1   \n",
       "\n",
       "   BOAvgOpenWeekend  DomesticGross  ForeignGross  WorldGross  Budget  \\\n",
       "0           35540.0         336.53        554.34      890.87   258.0   \n",
       "1           29507.0         322.72        476.24      798.96   160.0   \n",
       "2           17577.0         319.25        390.46      709.71   150.0   \n",
       "3           26302.0         309.42        654.00      963.42   300.0   \n",
       "4           17998.0         292.00        647.88      939.89   150.0   \n",
       "\n",
       "   Profitability  OpenProfit  Year  \n",
       "0         345.30       58.57  2007  \n",
       "1         499.35       76.00  2007  \n",
       "2         473.14       47.00  2007  \n",
       "3         321.14       38.23  2007  \n",
       "4         626.59       51.40  2007  "
      ]
     },
     "execution_count": 3,
     "metadata": {},
     "output_type": "execute_result"
    }
   ],
   "source": [
    "hw_df_raw = pd.read_csv(DATA_PATH+'HollywoodMovies.csv',low_memory=False)\n",
    "hw_df_raw.head()"
   ]
  },
  {
   "cell_type": "code",
   "execution_count": 6,
   "metadata": {},
   "outputs": [
    {
     "data": {
      "text/plain": [
       "343    The Hurt Locker\n",
       "629        The Muppets\n",
       "Name: Movie, dtype: object"
      ]
     },
     "execution_count": 6,
     "metadata": {},
     "output_type": "execute_result"
    }
   ],
   "source": [
    "quest_movies = hw_df_raw[hw_df_raw['Story'] == 'Quest']\n",
    "quest_movies[quest_movies['RottenTomatoes'] == max(quest_movies['RottenTomatoes'])].Movie"
   ]
  },
  {
   "cell_type": "code",
   "execution_count": 7,
   "metadata": {},
   "outputs": [
    {
     "data": {
      "text/plain": [
       "496    Drama\n",
       "Name: Genre, dtype: object"
      ]
     },
     "execution_count": 7,
     "metadata": {},
     "output_type": "execute_result"
    }
   ],
   "source": [
    "hw_df_raw[hw_df_raw['TheatersOpenWeek'] == max(hw_df_raw['TheatersOpenWeek'])].Genre"
   ]
  },
  {
   "cell_type": "code",
   "execution_count": 9,
   "metadata": {},
   "outputs": [
    {
     "data": {
      "text/plain": [
       "3      Pirates of the Caribbean: At World's End\n",
       "468                                     Tangled\n",
       "0                                  Spider-Man 3\n",
       "778                       The Dark Knight Rises\n",
       "241      Harry Potter and the Half-Blood Prince\n",
       "Name: Movie, dtype: object"
      ]
     },
     "execution_count": 9,
     "metadata": {},
     "output_type": "execute_result"
    }
   ],
   "source": [
    "hw_df_raw.sort_values(by='Budget', ascending=False).Movie[:5]"
   ]
  },
  {
   "cell_type": "code",
   "execution_count": 11,
   "metadata": {},
   "outputs": [
    {
     "data": {
      "text/plain": [
       "<matplotlib.collections.PathCollection at 0x7f9f957d59a0>"
      ]
     },
     "execution_count": 11,
     "metadata": {},
     "output_type": "execute_result"
    },
    {
     "data": {
      "image/png": "[encoded data removed]",
      "text/plain": [
       "<Figure size 1440x360 with 1 Axes>"
      ]
     },
     "metadata": {
      "needs_background": "light"
     },
     "output_type": "display_data"
    }
   ],
   "source": [
    "fig, ax = plt.subplots(figsize=(20,5))\n",
    "ax.scatter(hw_df_raw.sort_values(by='RottenTomatoes').WorldGross, hw_df_raw.sort_values(by='RottenTomatoes').RottenTomatoes)"
   ]
  },
  {
   "cell_type": "code",
   "execution_count": null,
   "metadata": {},
   "outputs": [],
   "source": []
  }
 ],
 "metadata": {
  "kernelspec": {
   "display_name": "edureka-py",
   "language": "python",
   "name": "edureka-py"
  },
  "language_info": {
   "codemirror_mode": {
    "name": "ipython",
    "version": 3
   },
   "file_extension": ".py",
   "mimetype": "text/x-python",
   "name": "python",
   "nbconvert_exporter": "python",
   "pygments_lexer": "ipython3",
   "version": "3.8.3"
  }
 },
 "nbformat": 4,
 "nbformat_minor": 4
}
