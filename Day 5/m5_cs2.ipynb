{
 "cells": [
  {
   "cell_type": "code",
   "execution_count": 1,
   "metadata": {},
   "outputs": [],
   "source": [
    "import pandas as pd\n",
    "import numpy as np\n",
    "import matplotlib.pyplot as plt"
   ]
  },
  {
   "cell_type": "code",
   "execution_count": 2,
   "metadata": {},
   "outputs": [],
   "source": [
    "DATA_PATH = '/home/h4rsh4/learn/Edureka_Python-Course/Data Sources/Day_5/'"
   ]
  },
  {
   "cell_type": "code",
   "execution_count": 4,
   "metadata": {},
   "outputs": [],
   "source": [
    "df_raw = pd.read_csv(DATA_PATH+'Salaries.csv', low_memory=False)"
   ]
  },
  {
   "cell_type": "code",
   "execution_count": 5,
   "metadata": {},
   "outputs": [
    {
     "name": "stdout",
     "output_type": "stream",
     "text": [
      "<class 'pandas.core.frame.DataFrame'>\n",
      "RangeIndex: 148648 entries, 0 to 148647\n",
      "Data columns (total 13 columns):\n",
      " #   Column            Non-Null Count   Dtype  \n",
      "---  ------            --------------   -----  \n",
      " 0   Id                148648 non-null  int64  \n",
      " 1   EmployeeName      148648 non-null  object \n",
      " 2   JobTitle          148648 non-null  object \n",
      " 3   BasePay           148043 non-null  float64\n",
      " 4   OvertimePay       148648 non-null  float64\n",
      " 5   OtherPay          148648 non-null  float64\n",
      " 6   Benefits          112490 non-null  float64\n",
      " 7   TotalPay          148648 non-null  float64\n",
      " 8   TotalPayBenefits  148648 non-null  float64\n",
      " 9   Year              148648 non-null  int64  \n",
      " 10  Notes             0 non-null       float64\n",
      " 11  Agency            148648 non-null  object \n",
      " 12  Status            38119 non-null   object \n",
      "dtypes: float64(7), int64(2), object(4)\n",
      "memory usage: 14.7+ MB\n"
     ]
    }
   ],
   "source": [
    "df_raw.info()"
   ]
  },
  {
   "cell_type": "code",
   "execution_count": 6,
   "metadata": {},
   "outputs": [
    {
     "data": {
      "text/html": [
       "<div>\n",
       "<style scoped>\n",
       "    .dataframe tbody tr th:only-of-type {\n",
       "        vertical-align: middle;\n",
       "    }\n",
       "\n",
       "    .dataframe tbody tr th {\n",
       "        vertical-align: top;\n",
       "    }\n",
       "\n",
       "    .dataframe thead th {\n",
       "        text-align: right;\n",
       "    }\n",
       "</style>\n",
       "<table border=\"1\" class=\"dataframe\">\n",
       "  <thead>\n",
       "    <tr style=\"text-align: right;\">\n",
       "      <th></th>\n",
       "      <th>0</th>\n",
       "      <th>1</th>\n",
       "      <th>2</th>\n",
       "      <th>3</th>\n",
       "      <th>4</th>\n",
       "    </tr>\n",
       "  </thead>\n",
       "  <tbody>\n",
       "    <tr>\n",
       "      <th>Id</th>\n",
       "      <td>1</td>\n",
       "      <td>2</td>\n",
       "      <td>3</td>\n",
       "      <td>4</td>\n",
       "      <td>5</td>\n",
       "    </tr>\n",
       "    <tr>\n",
       "      <th>EmployeeName</th>\n",
       "      <td>NATHANIEL FORD</td>\n",
       "      <td>GARY JIMENEZ</td>\n",
       "      <td>ALBERT PARDINI</td>\n",
       "      <td>CHRISTOPHER CHONG</td>\n",
       "      <td>PATRICK GARDNER</td>\n",
       "    </tr>\n",
       "    <tr>\n",
       "      <th>JobTitle</th>\n",
       "      <td>GENERAL MANAGER-METROPOLITAN TRANSIT AUTHORITY</td>\n",
       "      <td>CAPTAIN III (POLICE DEPARTMENT)</td>\n",
       "      <td>CAPTAIN III (POLICE DEPARTMENT)</td>\n",
       "      <td>WIRE ROPE CABLE MAINTENANCE MECHANIC</td>\n",
       "      <td>DEPUTY CHIEF OF DEPARTMENT,(FIRE DEPARTMENT)</td>\n",
       "    </tr>\n",
       "    <tr>\n",
       "      <th>BasePay</th>\n",
       "      <td>167411</td>\n",
       "      <td>155966</td>\n",
       "      <td>212739</td>\n",
       "      <td>77916</td>\n",
       "      <td>134402</td>\n",
       "    </tr>\n",
       "    <tr>\n",
       "      <th>OvertimePay</th>\n",
       "      <td>0</td>\n",
       "      <td>245132</td>\n",
       "      <td>106088</td>\n",
       "      <td>56120.7</td>\n",
       "      <td>9737</td>\n",
       "    </tr>\n",
       "    <tr>\n",
       "      <th>OtherPay</th>\n",
       "      <td>400184</td>\n",
       "      <td>137811</td>\n",
       "      <td>16452.6</td>\n",
       "      <td>198307</td>\n",
       "      <td>182235</td>\n",
       "    </tr>\n",
       "    <tr>\n",
       "      <th>Benefits</th>\n",
       "      <td>NaN</td>\n",
       "      <td>NaN</td>\n",
       "      <td>NaN</td>\n",
       "      <td>NaN</td>\n",
       "      <td>NaN</td>\n",
       "    </tr>\n",
       "    <tr>\n",
       "      <th>TotalPay</th>\n",
       "      <td>567595</td>\n",
       "      <td>538909</td>\n",
       "      <td>335280</td>\n",
       "      <td>332344</td>\n",
       "      <td>326373</td>\n",
       "    </tr>\n",
       "    <tr>\n",
       "      <th>TotalPayBenefits</th>\n",
       "      <td>567595</td>\n",
       "      <td>538909</td>\n",
       "      <td>335280</td>\n",
       "      <td>332344</td>\n",
       "      <td>326373</td>\n",
       "    </tr>\n",
       "    <tr>\n",
       "      <th>Year</th>\n",
       "      <td>2011</td>\n",
       "      <td>2011</td>\n",
       "      <td>2011</td>\n",
       "      <td>2011</td>\n",
       "      <td>2011</td>\n",
       "    </tr>\n",
       "    <tr>\n",
       "      <th>Notes</th>\n",
       "      <td>NaN</td>\n",
       "      <td>NaN</td>\n",
       "      <td>NaN</td>\n",
       "      <td>NaN</td>\n",
       "      <td>NaN</td>\n",
       "    </tr>\n",
       "    <tr>\n",
       "      <th>Agency</th>\n",
       "      <td>San Francisco</td>\n",
       "      <td>San Francisco</td>\n",
       "      <td>San Francisco</td>\n",
       "      <td>San Francisco</td>\n",
       "      <td>San Francisco</td>\n",
       "    </tr>\n",
       "    <tr>\n",
       "      <th>Status</th>\n",
       "      <td>NaN</td>\n",
       "      <td>NaN</td>\n",
       "      <td>NaN</td>\n",
       "      <td>NaN</td>\n",
       "      <td>NaN</td>\n",
       "    </tr>\n",
       "  </tbody>\n",
       "</table>\n",
       "</div>"
      ],
      "text/plain": [
       "                                                               0  \\\n",
       "Id                                                             1   \n",
       "EmployeeName                                      NATHANIEL FORD   \n",
       "JobTitle          GENERAL MANAGER-METROPOLITAN TRANSIT AUTHORITY   \n",
       "BasePay                                                   167411   \n",
       "OvertimePay                                                    0   \n",
       "OtherPay                                                  400184   \n",
       "Benefits                                                     NaN   \n",
       "TotalPay                                                  567595   \n",
       "TotalPayBenefits                                          567595   \n",
       "Year                                                        2011   \n",
       "Notes                                                        NaN   \n",
       "Agency                                             San Francisco   \n",
       "Status                                                       NaN   \n",
       "\n",
       "                                                1  \\\n",
       "Id                                              2   \n",
       "EmployeeName                         GARY JIMENEZ   \n",
       "JobTitle          CAPTAIN III (POLICE DEPARTMENT)   \n",
       "BasePay                                    155966   \n",
       "OvertimePay                                245132   \n",
       "OtherPay                                   137811   \n",
       "Benefits                                      NaN   \n",
       "TotalPay                                   538909   \n",
       "TotalPayBenefits                           538909   \n",
       "Year                                         2011   \n",
       "Notes                                         NaN   \n",
       "Agency                              San Francisco   \n",
       "Status                                        NaN   \n",
       "\n",
       "                                                2  \\\n",
       "Id                                              3   \n",
       "EmployeeName                       ALBERT PARDINI   \n",
       "JobTitle          CAPTAIN III (POLICE DEPARTMENT)   \n",
       "BasePay                                    212739   \n",
       "OvertimePay                                106088   \n",
       "OtherPay                                  16452.6   \n",
       "Benefits                                      NaN   \n",
       "TotalPay                                   335280   \n",
       "TotalPayBenefits                           335280   \n",
       "Year                                         2011   \n",
       "Notes                                         NaN   \n",
       "Agency                              San Francisco   \n",
       "Status                                        NaN   \n",
       "\n",
       "                                                     3  \\\n",
       "Id                                                   4   \n",
       "EmployeeName                         CHRISTOPHER CHONG   \n",
       "JobTitle          WIRE ROPE CABLE MAINTENANCE MECHANIC   \n",
       "BasePay                                          77916   \n",
       "OvertimePay                                    56120.7   \n",
       "OtherPay                                        198307   \n",
       "Benefits                                           NaN   \n",
       "TotalPay                                        332344   \n",
       "TotalPayBenefits                                332344   \n",
       "Year                                              2011   \n",
       "Notes                                              NaN   \n",
       "Agency                                   San Francisco   \n",
       "Status                                             NaN   \n",
       "\n",
       "                                                             4  \n",
       "Id                                                           5  \n",
       "EmployeeName                                   PATRICK GARDNER  \n",
       "JobTitle          DEPUTY CHIEF OF DEPARTMENT,(FIRE DEPARTMENT)  \n",
       "BasePay                                                 134402  \n",
       "OvertimePay                                               9737  \n",
       "OtherPay                                                182235  \n",
       "Benefits                                                   NaN  \n",
       "TotalPay                                                326373  \n",
       "TotalPayBenefits                                        326373  \n",
       "Year                                                      2011  \n",
       "Notes                                                      NaN  \n",
       "Agency                                           San Francisco  \n",
       "Status                                                     NaN  "
      ]
     },
     "execution_count": 6,
     "metadata": {},
     "output_type": "execute_result"
    }
   ],
   "source": [
    "df_raw.head().transpose()"
   ]
  },
  {
   "cell_type": "code",
   "execution_count": 7,
   "metadata": {},
   "outputs": [
    {
     "data": {
      "text/plain": [
       "array([2011, 2012, 2013, 2014])"
      ]
     },
     "execution_count": 7,
     "metadata": {},
     "output_type": "execute_result"
    }
   ],
   "source": [
    "df_raw.Year.unique()"
   ]
  },
  {
   "cell_type": "code",
   "execution_count": 8,
   "metadata": {},
   "outputs": [],
   "source": [
    "'''\n",
    "Case 1:\n",
    "Compute how much total salary cost has increased from year 2011 to 2014\n",
    "'''\n",
    "tSales_2011 = sum(df_raw[ df_raw.Year == 2011 ].TotalPay)\n",
    "tSales_2014 = sum(df_raw[ df_raw.Year == 2014 ].TotalPay)"
   ]
  },
  {
   "cell_type": "code",
   "execution_count": 15,
   "metadata": {},
   "outputs": [
    {
     "name": "stdout",
     "output_type": "stream",
     "text": [
      "2011 Sales : 2594113030.72 dollars\t2014 Sales: 2876910951.26 dollars\n",
      "Change in net Salary from 2011 - 2014 : 282797920.53994226 dollars\n",
      "% Change                              : 10.901526540709225 %\n"
     ]
    }
   ],
   "source": [
    "print(\n",
    "    f'2011 Sales : {round(tSales_2011,2)} dollars\\t2014 Sales: {round(tSales_2014,2)} dollars'\n",
    "    f'\\nChange in net Salary from 2011 - 2014 : {tSales_2014-tSales_2011} dollars'+\n",
    "    f'\\n% Change                              : {((tSales_2014-tSales_2011)/tSales_2011) * 100 } %'\n",
    ")"
   ]
  },
  {
   "cell_type": "code",
   "execution_count": 46,
   "metadata": {},
   "outputs": [
    {
     "name": "stdout",
     "output_type": "stream",
     "text": [
      "Highest paying job(mean-wise) : Chief Investment Officer\n",
      "Mean Pay: 339653.7\n"
     ]
    }
   ],
   "source": [
    "'''\n",
    "Case 2:\n",
    "Which Job Title in Year 2014 has highest mean salary?\n",
    "\n",
    "Approach:\n",
    "Find the total unique jobs; For each job, filter the db and find mean\n",
    "'''\n",
    "df_14_year = df_raw[df_raw.Year == 2014]\n",
    "jobs = df_14_year.JobTitle.unique() #996 unique jobs\n",
    "jobs_mean_salaries = []\n",
    "for job in jobs:\n",
    "    jobs_mean_salaries.append(\n",
    "        df_14_year[df_14_year['JobTitle'] == job].TotalPay.mean()\n",
    "    )\n",
    "highest_idx = jobs_mean_salaries.index(max(jobs_mean_salaries))\n",
    "print(f'Highest paying job(mean-wise) : {jobs[highest_idx]}\\nMean Pay: {jobs_mean_salaries[highest_idx]}')"
   ]
  },
  {
   "cell_type": "code",
   "execution_count": 49,
   "metadata": {},
   "outputs": [
    {
     "name": "stdout",
     "output_type": "stream",
     "text": [
      "Total amount saved by removing overtime pay: 205918599.27 dollars\n"
     ]
    }
   ],
   "source": [
    "'''\n",
    "Case 3:\n",
    "How much can be saved by removing overtime pay? in year 2014\n",
    "df_14_year\n",
    "'''\n",
    "print(f'Total amount saved by removing overtime pay: {round(sum(df_14_year.OvertimePay),2)} dollars')"
   ]
  },
  {
   "cell_type": "code",
   "execution_count": 61,
   "metadata": {},
   "outputs": [
    {
     "data": {
      "text/plain": [
       "[['Deputy Chief 3', 8],\n",
       " ['Asst Med Examiner', 4],\n",
       " ['Chief Investment Officer', 1],\n",
       " ['Chief of Police', 1],\n",
       " ['Chief, Fire Department', 1]]"
      ]
     },
     "execution_count": 61,
     "metadata": {},
     "output_type": "execute_result"
    }
   ],
   "source": [
    "'''\n",
    "Case 4:\n",
    "What are the top 5 common job in Year 2014 and how much do they cost SFO?\n",
    "df_14_year\n",
    "jobs\n",
    "'''\n",
    "jobs_series = list(df_14_year.JobTitle)\n",
    "jobs_count = [[i, jobs_series.count(i)] for i in jobs]\n",
    "jobs_count[:5]"
   ]
  },
  {
   "cell_type": "code",
   "execution_count": 68,
   "metadata": {},
   "outputs": [
    {
     "data": {
      "text/plain": [
       "[['Firefighter', 815],\n",
       " ['Public Svc Aide-Public Works', 916],\n",
       " ['Registered Nurse', 1234],\n",
       " ['Special Nurse', 1478],\n",
       " ['Transit Operator', 2479]]"
      ]
     },
     "execution_count": 68,
     "metadata": {},
     "output_type": "execute_result"
    }
   ],
   "source": [
    "for x in range(len(jobs_count)):\n",
    "    for y in range(len(jobs_count)-1):\n",
    "        if jobs_count[y][1] > jobs_count[y+1][1]:\n",
    "            jobs_count[y][1], jobs_count[y+1][1] = jobs_count[y+1][1], jobs_count[y][1]\n",
    "            jobs_count[y][0], jobs_count[y+1][0] = jobs_count[y+1][0], jobs_count[y][0]\n",
    "jobs_count[-5:]"
   ]
  },
  {
   "cell_type": "code",
   "execution_count": 74,
   "metadata": {},
   "outputs": [
    {
     "data": {
      "text/plain": [
       "['Transit Operator',\n",
       " 'Special Nurse',\n",
       " 'Registered Nurse',\n",
       " 'Public Svc Aide-Public Works',\n",
       " 'Firefighter']"
      ]
     },
     "execution_count": 74,
     "metadata": {},
     "output_type": "execute_result"
    }
   ],
   "source": [
    "#Now find the total pay of each job and sum them all up\n",
    "most_common_jobs = [i[0] for i in jobs_count[-5:]][::-1]\n",
    "most_common_jobs"
   ]
  },
  {
   "cell_type": "code",
   "execution_count": 77,
   "metadata": {},
   "outputs": [
    {
     "data": {
      "text/plain": [
       "[152007977.75,\n",
       " 49498738.230000004,\n",
       " 144406501.26,\n",
       " 8535453.790000001,\n",
       " 113283574.6]"
      ]
     },
     "execution_count": 77,
     "metadata": {},
     "output_type": "execute_result"
    }
   ],
   "source": [
    "most_common_jobs_pay = []\n",
    "for job in most_common_jobs:\n",
    "    temp_df = df_14_year[df_14_year['JobTitle'] == job]\n",
    "    most_common_jobs_pay.append(temp_df.TotalPay.sum())\n",
    "most_common_jobs_pay"
   ]
  },
  {
   "cell_type": "code",
   "execution_count": 78,
   "metadata": {},
   "outputs": [
    {
     "data": {
      "text/plain": [
       "152007977.75"
      ]
     },
     "execution_count": 78,
     "metadata": {},
     "output_type": "execute_result"
    }
   ],
   "source": [
    "#df_14_year[df_14_year['JobTitle'] == 'Transit Operator'].TotalPay.sum()"
   ]
  },
  {
   "cell_type": "code",
   "execution_count": 80,
   "metadata": {},
   "outputs": [
    {
     "data": {
      "text/plain": [
       "0    NATHANIEL FORD\n",
       "Name: EmployeeName, dtype: object"
      ]
     },
     "execution_count": 80,
     "metadata": {},
     "output_type": "execute_result"
    }
   ],
   "source": [
    "'''\n",
    "Case 5:\n",
    "Who was the top earning employee across all the yearS?\n",
    "'''\n",
    "df_raw[df_raw['TotalPay'] == max(df_raw['TotalPay'])].EmployeeName"
   ]
  },
  {
   "cell_type": "code",
   "execution_count": 81,
   "metadata": {},
   "outputs": [],
   "source": [
    "#Enhancement codes"
   ]
  },
  {
   "cell_type": "code",
   "execution_count": 85,
   "metadata": {},
   "outputs": [
    {
     "name": "stdout",
     "output_type": "stream",
     "text": [
      "['Chief Investment Officer', 'Chief of Police', 'Chief, Fire Department', 'Gen Mgr, Public Trnsp Dept', 'Administrator, DPH']\n"
     ]
    },
    {
     "data": {
      "text/plain": [
       "[339653.7, 326716.76, 326233.44, 294000.18, 282619.96]"
      ]
     },
     "execution_count": 85,
     "metadata": {},
     "output_type": "execute_result"
    }
   ],
   "source": [
    "'''\n",
    "eCase 1:\n",
    "Which are the last 5 common job in Year 2014 and how much do they cost \n",
    "SFO?\n",
    "'''\n",
    "least_common_jobs = [job[0] for job in jobs_count[:5]]\n",
    "least_common_jobs_pay = []\n",
    "for job in least_common_jobs:\n",
    "    temp_df = df_14_year[df_14_year['JobTitle'] == job]\n",
    "    least_common_jobs_pay.append(temp_df.TotalPay.sum())\n",
    "print(least_common_jobs)\n",
    "least_common_jobs_pay"
   ]
  },
  {
   "cell_type": "code",
   "execution_count": 90,
   "metadata": {},
   "outputs": [
    {
     "name": "stdout",
     "output_type": "stream",
     "text": [
      "5.387907663195691 percentage\n"
     ]
    }
   ],
   "source": [
    "'''\n",
    "eCase 2:\n",
    "n year 201 OverTimePay was what percentage of  TotalPayBenefits\n",
    "**2014**\n",
    "'''\n",
    "print(str((sum(df_14_year.OvertimePay)/sum(df_14_year.TotalPayBenefits))*100) + ' percentage')"
   ]
  },
  {
   "cell_type": "code",
   "execution_count": 92,
   "metadata": {},
   "outputs": [
    {
     "name": "stdout",
     "output_type": "stream",
     "text": [
      "Lowest paying job(mean-wise) : Special Assistant 15\n",
      "Mean Pay: 0.0\n"
     ]
    }
   ],
   "source": [
    "'''\n",
    "eCase 3:\n",
    "Which Job Title in Year 2014 has lowest mean salary?\n",
    "'''\n",
    "lowest_idx = jobs_mean_salaries.index(min(jobs_mean_salaries))\n",
    "print(f'Lowest paying job(mean-wise) : {jobs[lowest_idx]}\\nMean Pay: {jobs_mean_salaries[lowest_idx]}')"
   ]
  },
  {
   "cell_type": "code",
   "execution_count": null,
   "metadata": {},
   "outputs": [],
   "source": []
  }
 ],
 "metadata": {
  "kernelspec": {
   "display_name": "edureka-py",
   "language": "python",
   "name": "edureka-py"
  },
  "language_info": {
   "codemirror_mode": {
    "name": "ipython",
    "version": 3
   },
   "file_extension": ".py",
   "mimetype": "text/x-python",
   "name": "python",
   "nbconvert_exporter": "python",
   "pygments_lexer": "ipython3",
   "version": "3.8.3"
  }
 },
 "nbformat": 4,
 "nbformat_minor": 4
}
