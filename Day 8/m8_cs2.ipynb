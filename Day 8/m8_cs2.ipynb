{
 "cells": [
  {
   "cell_type": "code",
   "execution_count": 1,
   "metadata": {},
   "outputs": [],
   "source": [
    "import pandas as pd\n",
    "import numpy as np\n",
    "import matplotlib.pyplot as plt\n",
    "\n",
    "import sklearn.datasets as datasets\n",
    "from sklearn.model_selection import train_test_split\n",
    "from sklearn.preprocessing import MinMaxScaler\n",
    "from sklearn.discriminant_analysis import LinearDiscriminantAnalysis\n",
    "from sklearn.linear_model import LogisticRegression\n",
    "from sklearn.metrics import confusion_matrix , accuracy_score"
   ]
  },
  {
   "cell_type": "code",
   "execution_count": 26,
   "metadata": {},
   "outputs": [
    {
     "data": {
      "text/plain": [
       "0.975"
      ]
     },
     "execution_count": 26,
     "metadata": {},
     "output_type": "execute_result"
    }
   ],
   "source": [
    "digits = datasets.load_digits(as_frame=True)\n",
    "df = digits.data\n",
    "\n",
    "scaler = MinMaxScaler()\n",
    "scaler.fit(df)\n",
    "df_scaled = scaler.transform(df)\n",
    "\n",
    "trainX, testX, trainY, testY = train_test_split(df_scaled, digits.target, random_state=65, test_size=0.2)\n",
    "\n",
    "lda = LinearDiscriminantAnalysis(n_components=9)\n",
    "trainX_lda = lda.fit_transform(trainX, trainY)\n",
    "testX_lda = lda.transform(testX)\n",
    "\n",
    "model_LogReg = LogisticRegression().fit(trainX_lda, trainY)\n",
    "y_pred = model_LogReg.predict(testX_lda)\n",
    "\n",
    "accuracy_score(testY, y_pred)"
   ]
  },
  {
   "cell_type": "code",
   "execution_count": 21,
   "metadata": {},
   "outputs": [
    {
     "data": {
      "text/plain": [
       "array([0.28559496, 0.18723066, 0.16766449, 0.11549168, 0.0834218 ,\n",
       "       0.06647898, 0.0428858 , 0.03081578, 0.02041585])"
      ]
     },
     "execution_count": 21,
     "metadata": {},
     "output_type": "execute_result"
    }
   ],
   "source": [
    "lda.explained_variance_ratio_"
   ]
  },
  {
   "cell_type": "code",
   "execution_count": 24,
   "metadata": {},
   "outputs": [],
   "source": [
    "def best_n_comp(variance, goal_variance):\n",
    "    tot = 0.0\n",
    "    n_comp = 0\n",
    "    for exp_var in variance:\n",
    "        tot +=exp_var\n",
    "        \n",
    "        n_comp+=1\n",
    "        \n",
    "        if tot >=goal_variance:\n",
    "            break\n",
    "    return n_comp"
   ]
  },
  {
   "cell_type": "code",
   "execution_count": 25,
   "metadata": {},
   "outputs": [
    {
     "data": {
      "text/plain": [
       "9"
      ]
     },
     "execution_count": 25,
     "metadata": {},
     "output_type": "execute_result"
    }
   ],
   "source": [
    "best_n_comp(lda.explained_variance_ratio_, 0.99)"
   ]
  },
  {
   "cell_type": "code",
   "execution_count": null,
   "metadata": {},
   "outputs": [],
   "source": []
  }
 ],
 "metadata": {
  "kernelspec": {
   "display_name": "edureka",
   "language": "python",
   "name": "edureka"
  },
  "language_info": {
   "codemirror_mode": {
    "name": "ipython",
    "version": 3
   },
   "file_extension": ".py",
   "mimetype": "text/x-python",
   "name": "python",
   "nbconvert_exporter": "python",
   "pygments_lexer": "ipython3",
   "version": "3.8.3"
  }
 },
 "nbformat": 4,
 "nbformat_minor": 4
}
