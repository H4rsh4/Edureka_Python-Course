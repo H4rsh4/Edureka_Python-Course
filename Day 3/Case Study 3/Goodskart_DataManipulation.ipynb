{
 "cells": [
  {
   "cell_type": "code",
   "execution_count": null,
   "metadata": {},
   "outputs": [],
   "source": [
    "'''\n",
    "Objective:\n",
    "csv interpretation:\n",
    "Last Name, First Name, isBlacklisted\n",
    "\n",
    "'''"
   ]
  },
  {
   "cell_type": "code",
   "execution_count": 1,
   "metadata": {},
   "outputs": [],
   "source": [
    "import numpy as np\n",
    "import pandas as pd\n",
    "#from multithreading import Thread\n",
    "\n",
    "from Customer import Customer\n",
    "\n",
    "class CustomerNotAllowedException(Exception):\n",
    "    pass\n",
    "\n",
    "class Order:\n",
    "    pass\n"
   ]
  },
  {
   "cell_type": "code",
   "execution_count": 6,
   "metadata": {
    "tags": []
   },
   "outputs": [
    {
     "name": "stdout",
     "output_type": "stream",
     "text": [
      "            0                    1  2\n",
      "0      Braund     Mr. Owen Harris   1\n",
      "1   Heikkinen         Miss. Laina   0\n",
      "2       Allen   Mr. William Henry   0\n",
      "3       Moran           Mr. James   0\n",
      "4    McCarthy       Mr. Timothy J   0\n"
     ]
    }
   ],
   "source": [
    "df_raw = pd.read_csv('FairDealCustomerData.csv', low_memory=False, header = None)\n",
    "print(df_raw.head())\n",
    "#df_raw.describe()"
   ]
  },
  {
   "cell_type": "code",
   "execution_count": 13,
   "metadata": {},
   "outputs": [
    {
     "name": "stdout",
     "output_type": "stream",
     "text": [
      "532 532 532\n"
     ]
    }
   ],
   "source": [
    "firstName = [fName.split('.') for fName in df_raw[1]] # [[title, firstName] ]\n",
    "lastName =  [lName.strip() for lName in df_raw[0]]\n",
    "isBlackListed = [int(f) for f in df_raw[2]]\n",
    "print(len(firstName), len(lastName), len(isBlackListed) )"
   ]
  },
  {
   "cell_type": "code",
   "execution_count": 20,
   "metadata": {},
   "outputs": [],
   "source": [
    "def createOrder(cust, productName=None, productCode=None):\n",
    "    if cust.isblacklisted == 1:\n",
    "        raise CustomerNotAllowedException\n",
    "    else:\n",
    "        pass\n",
    "    retObj = Order()\n",
    "    return retObj"
   ]
  },
  {
   "cell_type": "code",
   "execution_count": 28,
   "metadata": {},
   "outputs": [
    {
     "name": "stdout",
     "output_type": "stream",
     "text": [
      "Customer O.. w Braund Blacklisted\n",
      "Customer C.. h Williams Blacklisted\n",
      "Customer M.. a Uruchurtu Blacklisted\n",
      "Customer W.. i Rogers Blacklisted\n",
      "Customer A.. m Icard Blacklisted\n",
      "Customer L.. e Bing Blacklisted\n",
      "Customer B.. r McDermott Blacklisted\n",
      "Customer B.. e Dean Blacklisted\n",
      "Customer G.. u Johansson Blacklisted\n",
      "Customer D.. a Barton Blacklisted\n",
      "Customer P.. e White Blacklisted\n",
      "Customer E.. m Richard Blacklisted\n",
      "Customer A.. u van Billiard Blacklisted\n",
      "Customer J.. o Bengtsson Blacklisted\n",
      "Customer R.. e Hale Blacklisted\n",
      "Customer E.. l Lurette Blacklisted\n",
      "Customer K.. a Backstrom Blacklisted\n",
      "Customer P.. h Kiernan Blacklisted\n",
      "Customer G.. e Green Blacklisted\n",
      "Customer R.. o Leyson Blacklisted\n",
      "Customer S.. l Attalah Blacklisted\n",
      "Customer W.. i Lobb Blacklisted\n",
      "Customer D.. e Henry Blacklisted\n",
      "Customer K.. o Andrews Blacklisted\n",
      "Customer P.. e Naidenoff Blacklisted\n",
      "Customer M.. a Hanna Blacklisted\n",
      "Customer M.. a Hays Blacklisted\n",
      "Customer Y.. o Danoff Blacklisted\n",
      "Customer G.. e Graham Blacklisted\n",
      "Customer E.. r Collander Blacklisted\n",
      "Customer J.. o Arnold-Franchi Blacklisted\n",
      "Customer S.. e del Carlo Blacklisted\n",
      "Customer A.. u Landergren Blacklisted\n",
      "Customer W.. i Carter Blacklisted\n",
      "Customer J.. u Niskanen Blacklisted\n",
      "Customer H.. e Hart Blacklisted\n",
      "Customer P.. h Wiseman Blacklisted\n",
      "Customer E.. n Reynaldo Blacklisted\n",
      "Customer S.. a Goldenberg Blacklisted\n",
      "Customer A.. r Gee Blacklisted\n",
      "Customer A.. r Keefe Blacklisted\n",
      "Customer R.. i Rouse Blacklisted\n",
      "Customer R.. a Artagaveytia Blacklisted\n",
      "Customer F.. a Lang Blacklisted\n",
      "Customer S.. t Pavlovic Blacklisted\n",
      "Customer J.. o Farthing Blacklisted\n",
      "Customer S.. a Risien Blacklisted\n",
      "Customer F.. r Goldsmith Blacklisted\n",
      "Customer R.. o Norman Blacklisted\n",
      "Customer E.. t Garside Blacklisted\n",
      "Customer M.. a Frolicher-Stehli Blacklisted\n",
      "Customer J.. e Van Impe Blacklisted\n",
      "Customer E.. d Lindell Blacklisted\n",
      "Customer W.. i Brocklebank Blacklisted\n",
      "Customer C.. h Kirkland Blacklisted\n",
      "Customer A.. n Leinonen Blacklisted\n",
      "Customer E.. d Willey Blacklisted\n",
      "Customer H.. e Frauenthal Blacklisted\n",
      "Customer J.. a Cook Blacklisted\n",
      "Customer K.. a Peters Blacklisted\n",
      "Customer J.. o Weir Blacklisted\n",
      "Customer H.. e Hansen Blacklisted\n",
      "Customer C.. a Endres Blacklisted\n",
      "Customer K.. u Bryhl Blacklisted\n",
      "Customer G.. u Lesurer Blacklisted\n",
      "Customer E.. d Crosby Blacklisted\n",
      "Customer J.. o Garfirth Blacklisted\n",
      "Customer N.. i Jensen Blacklisted\n",
      "Customer B.. e Guggenheim Blacklisted\n",
      "Customer M.. a Ponesell Blacklisted\n",
      "Customer R.. i Slemen Blacklisted\n",
      "Customer J.. o Reuchlin Blacklisted\n",
      "Customer M.. a Sirota Blacklisted\n",
      "Customer M.. a Markoff Blacklisted\n",
      "Customer A.. s Duran y More Blacklisted\n",
      "Customer J.. o Markun Blacklisted\n"
     ]
    }
   ],
   "source": [
    "for idx in range(len(firstName)):\n",
    "    newCust = Customer()\n",
    "    newCust.setTitle( str(firstName[idx][0]).strip() + '.' )\n",
    "    newCust.setFname( str(firstName[idx][1]).strip() )\n",
    "    newCust.setLname( str(lastName[idx]).strip() )\n",
    "    newCust.setIsblacklisted( int(isBlackListed[idx]))\n",
    "    try:\n",
    "        createOrder(newCust)\n",
    "    except CustomerNotAllowedException:\n",
    "        print(f\"Customer {newCust.getTitle()}. {newCust.getFname()} {newCust.getLname()} Blacklisted\")\n",
    "\n",
    "    "
   ]
  },
  {
   "cell_type": "code",
   "execution_count": null,
   "metadata": {},
   "outputs": [],
   "source": []
  }
 ],
 "metadata": {
  "kernelspec": {
   "display_name": "edureka",
   "language": "python",
   "name": "edureka"
  },
  "language_info": {
   "codemirror_mode": {
    "name": "ipython",
    "version": 3
   },
   "file_extension": ".py",
   "mimetype": "text/x-python",
   "name": "python",
   "nbconvert_exporter": "python",
   "pygments_lexer": "ipython3",
   "version": "3.8.3"
  }
 },
 "nbformat": 4,
 "nbformat_minor": 2
}
