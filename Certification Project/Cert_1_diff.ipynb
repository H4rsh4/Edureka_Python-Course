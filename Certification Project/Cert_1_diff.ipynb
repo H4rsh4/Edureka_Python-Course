{
 "cells": [
  {
   "cell_type": "code",
   "execution_count": 1,
   "metadata": {},
   "outputs": [],
   "source": [
    "import pandas as pd\n",
    "import numpy as np\n",
    "\n",
    "import matplotlib.pyplot as plt\n",
    "from seaborn import heatmap\n",
    "\n",
    "#from sklearn.model_selection import make_scorer\n",
    "from sklearn.model_selection import train_test_split\n",
    "from sklearn.model_selection import GridSearchCV\n",
    "from sklearn.model_selection import KFold, cross_val_score\n",
    "\n",
    "from sklearn.preprocessing import MinMaxScaler\n",
    "from sklearn.decomposition import PCA\n",
    "\n",
    "from sklearn.svm import SVC, LinearSVC\n",
    "from sklearn.linear_model import LinearRegression, LogisticRegression\n",
    "from sklearn.ensemble import RandomForestRegressor\n",
    "\n",
    "from sklearn.metrics import mean_squared_error, make_scorer"
   ]
  },
  {
   "cell_type": "code",
   "execution_count": 2,
   "metadata": {},
   "outputs": [],
   "source": [
    "df_raw = pd.read_csv('SocialMedia-Data/OnlineNewsPopularity.csv', low_memory=False)"
   ]
  },
  {
   "cell_type": "code",
   "execution_count": 3,
   "metadata": {
    "collapsed": true,
    "jupyter": {
     "outputs_hidden": true
    }
   },
   "outputs": [
    {
     "name": "stdout",
     "output_type": "stream",
     "text": [
      "<class 'pandas.core.frame.DataFrame'>\n",
      "RangeIndex: 39644 entries, 0 to 39643\n",
      "Data columns (total 61 columns):\n",
      " #   Column                          Non-Null Count  Dtype  \n",
      "---  ------                          --------------  -----  \n",
      " 0   url                             39644 non-null  object \n",
      " 1   timedelta                       39644 non-null  float64\n",
      " 2   n_tokens_title                  39644 non-null  float64\n",
      " 3   n_tokens_content                39644 non-null  float64\n",
      " 4   n_unique_tokens                 39644 non-null  float64\n",
      " 5   n_non_stop_words                39644 non-null  float64\n",
      " 6   n_non_stop_unique_tokens        39644 non-null  float64\n",
      " 7   num_hrefs                       39644 non-null  float64\n",
      " 8   num_self_hrefs                  39644 non-null  float64\n",
      " 9   num_imgs                        39644 non-null  float64\n",
      " 10  num_videos                      39644 non-null  float64\n",
      " 11  average_token_length            39644 non-null  float64\n",
      " 12  num_keywords                    39644 non-null  float64\n",
      " 13  data_channel_is_lifestyle       39644 non-null  float64\n",
      " 14   data_channel_is_entertainment  39644 non-null  float64\n",
      " 15  data_channel_is_bus             39644 non-null  float64\n",
      " 16  data_channel_is_socmed          39644 non-null  float64\n",
      " 17  data_channel_is_tech            39644 non-null  float64\n",
      " 18  data_channel_is_world           39644 non-null  float64\n",
      " 19  kw_min_min                      39644 non-null  float64\n",
      " 20  kw_max_min                      39644 non-null  float64\n",
      " 21  kw_avg_min                      39644 non-null  float64\n",
      " 22  kw_min_max                      39644 non-null  float64\n",
      " 23  kw_max_max                      39644 non-null  float64\n",
      " 24  kw_avg_max                      39644 non-null  float64\n",
      " 25  kw_min_avg                      39644 non-null  float64\n",
      " 26  kw_max_avg                      39644 non-null  float64\n",
      " 27  kw_avg_avg                      39644 non-null  float64\n",
      " 28  self_reference_min_shares       39644 non-null  float64\n",
      " 29  self_reference_max_shares       39644 non-null  float64\n",
      " 30  self_reference_avg_sharess      39644 non-null  float64\n",
      " 31  weekday_is_monday               39644 non-null  float64\n",
      " 32  weekday_is_tuesday              39644 non-null  float64\n",
      " 33  weekday_is_wednesday            39644 non-null  float64\n",
      " 34  weekday_is_thursday             39644 non-null  float64\n",
      " 35  weekday_is_friday               39644 non-null  float64\n",
      " 36  weekday_is_saturday             39644 non-null  float64\n",
      " 37  weekday_is_sunday               39644 non-null  float64\n",
      " 38  is_weekend                      39644 non-null  float64\n",
      " 39  LDA_00                          39644 non-null  float64\n",
      " 40  LDA_01                          39644 non-null  float64\n",
      " 41  LDA_02                          39644 non-null  float64\n",
      " 42  LDA_03                          39644 non-null  float64\n",
      " 43  LDA_04                          39644 non-null  float64\n",
      " 44  global_subjectivity             39644 non-null  float64\n",
      " 45  global_sentiment_polarity       39644 non-null  float64\n",
      " 46  global_rate_positive_words      39644 non-null  float64\n",
      " 47  global_rate_negative_words      39644 non-null  float64\n",
      " 48  rate_positive_words             39644 non-null  float64\n",
      " 49  rate_negative_words             39644 non-null  float64\n",
      " 50  avg_positive_polarity           39644 non-null  float64\n",
      " 51  min_positive_polarity           39644 non-null  float64\n",
      " 52  max_positive_polarity           39644 non-null  float64\n",
      " 53  avg_negative_polarity           39644 non-null  float64\n",
      " 54  min_negative_polarity           39644 non-null  float64\n",
      " 55  max_negative_polarity           39644 non-null  float64\n",
      " 56  title_subjectivity              39644 non-null  float64\n",
      " 57  title_sentiment_polarity        39644 non-null  float64\n",
      " 58  abs_title_subjectivity          39644 non-null  float64\n",
      " 59  abs_title_sentiment_polarity    39644 non-null  float64\n",
      " 60  shares                          39644 non-null  int64  \n",
      "dtypes: float64(59), int64(1), object(1)\n",
      "memory usage: 18.5+ MB\n"
     ]
    }
   ],
   "source": [
    "df_raw.info()"
   ]
  },
  {
   "cell_type": "code",
   "execution_count": 5,
   "metadata": {},
   "outputs": [],
   "source": [
    "df_raw.drop('url', axis=1, inplace=True)"
   ]
  },
  {
   "cell_type": "code",
   "execution_count": 10,
   "metadata": {},
   "outputs": [],
   "source": [
    "shares_raw = df_raw.shares"
   ]
  },
  {
   "cell_type": "code",
   "execution_count": 11,
   "metadata": {},
   "outputs": [],
   "source": [
    "scaler = MinMaxScaler()\n",
    "scaler.fit(df_raw.drop('shares', axis=1))\n",
    "df_scaled = scaler.transform(df_raw.drop('shares', axis=1))"
   ]
  },
  {
   "cell_type": "code",
   "execution_count": 12,
   "metadata": {},
   "outputs": [],
   "source": [
    "pca = PCA(n_components=0.99)\n",
    "pca.fit(df_scaled)\n",
    "scaled_shares = df_scaled"
   ]
  },
  {
   "cell_type": "code",
   "execution_count": 13,
   "metadata": {},
   "outputs": [],
   "source": [
    "def RMSE(y_true, y_pred):\n",
    "    return np.sqrt(mean_squared_error(y_true, y_pred))\n",
    "def model_results(trainX, testX, trainY, testY):\n",
    "    RMSEs = []\n",
    "    \n",
    "    model_LinReg = LinearRegression(normalize=True,n_jobs=-1,)\n",
    "    model_LogReg = LogisticRegression()\n",
    "    model_RandForestReg = RandomForestRegressor(n_estimators=300,n_jobs=-1,max_depth=16, criterion='mse')\n",
    "    model_SVC = SVC(random_state=9)\n",
    "    model_linearSVC = LinearSVC()\n",
    "    \n",
    "    models = [model_LinReg, model_RandForestReg, model_LogReg, model_SVC, model_linearSVC]\n",
    "    for model in models:\n",
    "        model.fit(trainX, trainY)\n",
    "        score = (RMSE(testY, model.predict(testX)))\n",
    "        print(f'{model} : {score}')\n",
    "    return models, RMSEs"
   ]
  },
  {
   "cell_type": "code",
   "execution_count": 14,
   "metadata": {},
   "outputs": [],
   "source": [
    "trainX, testX, trainY, testY = train_test_split(df_scaled, shares_raw, random_state=8, test_size=0.2)"
   ]
  },
  {
   "cell_type": "code",
   "execution_count": 15,
   "metadata": {},
   "outputs": [
    {
     "name": "stdout",
     "output_type": "stream",
     "text": [
      "LinearRegression(n_jobs=-1, normalize=True) : 13363.530499163324\n",
      "RandomForestRegressor(max_depth=16, n_estimators=300, n_jobs=-1) : 13501.5201736739\n"
     ]
    },
    {
     "name": "stderr",
     "output_type": "stream",
     "text": [
      "E:\\Edureka_Python-Course\\edu-py\\lib\\site-packages\\sklearn\\linear_model\\_logistic.py:762: ConvergenceWarning: lbfgs failed to converge (status=1):\n",
      "STOP: TOTAL NO. of ITERATIONS REACHED LIMIT.\n",
      "\n",
      "Increase the number of iterations (max_iter) or scale the data as shown in:\n",
      "    https://scikit-learn.org/stable/modules/preprocessing.html\n",
      "Please also refer to the documentation for alternative solver options:\n",
      "    https://scikit-learn.org/stable/modules/linear_model.html#logistic-regression\n",
      "  n_iter_i = _check_optimize_result(\n"
     ]
    },
    {
     "name": "stdout",
     "output_type": "stream",
     "text": [
      "LogisticRegression() : 13652.131209396664\n",
      "SVC(random_state=9) : 13668.538999136552\n",
      "LinearSVC() : 28049.238958314414\n"
     ]
    },
    {
     "data": {
      "text/plain": [
       "([LinearRegression(n_jobs=-1, normalize=True),\n",
       "  RandomForestRegressor(max_depth=16, n_estimators=300, n_jobs=-1),\n",
       "  LogisticRegression(),\n",
       "  SVC(random_state=9),\n",
       "  LinearSVC()],\n",
       " [])"
      ]
     },
     "execution_count": 15,
     "metadata": {},
     "output_type": "execute_result"
    }
   ],
   "source": [
    "model_results(trainX, testX, trainY, testY)"
   ]
  },
  {
   "cell_type": "code",
   "execution_count": null,
   "metadata": {},
   "outputs": [],
   "source": []
  }
 ],
 "metadata": {
  "kernelspec": {
   "display_name": "edureka",
   "language": "python",
   "name": "edureka"
  },
  "language_info": {
   "codemirror_mode": {
    "name": "ipython",
    "version": 3
   },
   "file_extension": ".py",
   "mimetype": "text/x-python",
   "name": "python",
   "nbconvert_exporter": "python",
   "pygments_lexer": "ipython3",
   "version": "3.8.3"
  }
 },
 "nbformat": 4,
 "nbformat_minor": 4
}
