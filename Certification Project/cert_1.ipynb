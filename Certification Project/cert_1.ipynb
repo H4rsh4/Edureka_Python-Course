{
 "cells": [
  {
   "cell_type": "code",
   "execution_count": 14,
   "metadata": {},
   "outputs": [],
   "source": [
    "import pandas as pd\n",
    "import numpy as np\n",
    "\n",
    "import matplotlib.pyplot as plt\n",
    "from seaborn import heatmap\n",
    "\n",
    "#from sklearn.model_selection import make_scorer\n",
    "from sklearn.model_selection import train_test_split\n",
    "from sklearn.model_selection import GridSearchCV\n",
    "from sklearn.model_selection import KFold, cross_val_score\n",
    "\n",
    "from sklearn.preprocessing import StandardScaler\n",
    "from sklearn.decomposition import PCA\n",
    "\n",
    "from sklearn.svm import SVC, LinearSVC\n",
    "from sklearn.linear_model import LinearRegression, LogisticRegression\n",
    "from sklearn.ensemble import RandomForestRegressor\n",
    "\n",
    "from sklearn.metrics import mean_squared_error, make_scorer"
   ]
  },
  {
   "cell_type": "code",
   "execution_count": 2,
   "metadata": {},
   "outputs": [],
   "source": [
    "df_raw = pd.read_csv('SocialMedia-Data/OnlineNewsPopularity.csv', low_memory=False)"
   ]
  },
  {
   "cell_type": "code",
   "execution_count": 3,
   "metadata": {},
   "outputs": [
    {
     "name": "stdout",
     "output_type": "stream",
     "text": [
      "<class 'pandas.core.frame.DataFrame'>\n",
      "RangeIndex: 39644 entries, 0 to 39643\n",
      "Data columns (total 61 columns):\n",
      " #   Column                          Non-Null Count  Dtype  \n",
      "---  ------                          --------------  -----  \n",
      " 0   url                             39644 non-null  object \n",
      " 1   timedelta                       39644 non-null  float64\n",
      " 2   n_tokens_title                  39644 non-null  float64\n",
      " 3   n_tokens_content                39644 non-null  float64\n",
      " 4   n_unique_tokens                 39644 non-null  float64\n",
      " 5   n_non_stop_words                39644 non-null  float64\n",
      " 6   n_non_stop_unique_tokens        39644 non-null  float64\n",
      " 7   num_hrefs                       39644 non-null  float64\n",
      " 8   num_self_hrefs                  39644 non-null  float64\n",
      " 9   num_imgs                        39644 non-null  float64\n",
      " 10  num_videos                      39644 non-null  float64\n",
      " 11  average_token_length            39644 non-null  float64\n",
      " 12  num_keywords                    39644 non-null  float64\n",
      " 13  data_channel_is_lifestyle       39644 non-null  float64\n",
      " 14   data_channel_is_entertainment  39644 non-null  float64\n",
      " 15  data_channel_is_bus             39644 non-null  float64\n",
      " 16  data_channel_is_socmed          39644 non-null  float64\n",
      " 17  data_channel_is_tech            39644 non-null  float64\n",
      " 18  data_channel_is_world           39644 non-null  float64\n",
      " 19  kw_min_min                      39644 non-null  float64\n",
      " 20  kw_max_min                      39644 non-null  float64\n",
      " 21  kw_avg_min                      39644 non-null  float64\n",
      " 22  kw_min_max                      39644 non-null  float64\n",
      " 23  kw_max_max                      39644 non-null  float64\n",
      " 24  kw_avg_max                      39644 non-null  float64\n",
      " 25  kw_min_avg                      39644 non-null  float64\n",
      " 26  kw_max_avg                      39644 non-null  float64\n",
      " 27  kw_avg_avg                      39644 non-null  float64\n",
      " 28  self_reference_min_shares       39644 non-null  float64\n",
      " 29  self_reference_max_shares       39644 non-null  float64\n",
      " 30  self_reference_avg_sharess      39644 non-null  float64\n",
      " 31  weekday_is_monday               39644 non-null  float64\n",
      " 32  weekday_is_tuesday              39644 non-null  float64\n",
      " 33  weekday_is_wednesday            39644 non-null  float64\n",
      " 34  weekday_is_thursday             39644 non-null  float64\n",
      " 35  weekday_is_friday               39644 non-null  float64\n",
      " 36  weekday_is_saturday             39644 non-null  float64\n",
      " 37  weekday_is_sunday               39644 non-null  float64\n",
      " 38  is_weekend                      39644 non-null  float64\n",
      " 39  LDA_00                          39644 non-null  float64\n",
      " 40  LDA_01                          39644 non-null  float64\n",
      " 41  LDA_02                          39644 non-null  float64\n",
      " 42  LDA_03                          39644 non-null  float64\n",
      " 43  LDA_04                          39644 non-null  float64\n",
      " 44  global_subjectivity             39644 non-null  float64\n",
      " 45  global_sentiment_polarity       39644 non-null  float64\n",
      " 46  global_rate_positive_words      39644 non-null  float64\n",
      " 47  global_rate_negative_words      39644 non-null  float64\n",
      " 48  rate_positive_words             39644 non-null  float64\n",
      " 49  rate_negative_words             39644 non-null  float64\n",
      " 50  avg_positive_polarity           39644 non-null  float64\n",
      " 51  min_positive_polarity           39644 non-null  float64\n",
      " 52  max_positive_polarity           39644 non-null  float64\n",
      " 53  avg_negative_polarity           39644 non-null  float64\n",
      " 54  min_negative_polarity           39644 non-null  float64\n",
      " 55  max_negative_polarity           39644 non-null  float64\n",
      " 56  title_subjectivity              39644 non-null  float64\n",
      " 57  title_sentiment_polarity        39644 non-null  float64\n",
      " 58  abs_title_subjectivity          39644 non-null  float64\n",
      " 59  abs_title_sentiment_polarity    39644 non-null  float64\n",
      " 60  shares                          39644 non-null  int64  \n",
      "dtypes: float64(59), int64(1), object(1)\n",
      "memory usage: 18.5+ MB\n"
     ]
    }
   ],
   "source": [
    "df_raw.info()"
   ]
  },
  {
   "cell_type": "code",
   "execution_count": 4,
   "metadata": {},
   "outputs": [
    {
     "data": {
      "text/html": [
       "<div>\n",
       "<style scoped>\n",
       "    .dataframe tbody tr th:only-of-type {\n",
       "        vertical-align: middle;\n",
       "    }\n",
       "\n",
       "    .dataframe tbody tr th {\n",
       "        vertical-align: top;\n",
       "    }\n",
       "\n",
       "    .dataframe thead th {\n",
       "        text-align: right;\n",
       "    }\n",
       "</style>\n",
       "<table border=\"1\" class=\"dataframe\">\n",
       "  <thead>\n",
       "    <tr style=\"text-align: right;\">\n",
       "      <th></th>\n",
       "      <th>0</th>\n",
       "      <th>1</th>\n",
       "      <th>2</th>\n",
       "      <th>3</th>\n",
       "      <th>4</th>\n",
       "    </tr>\n",
       "  </thead>\n",
       "  <tbody>\n",
       "    <tr>\n",
       "      <th>url</th>\n",
       "      <td>http://mashable.com/2013/01/07/amazon-instant-...</td>\n",
       "      <td>http://mashable.com/2013/01/07/ap-samsung-spon...</td>\n",
       "      <td>http://mashable.com/2013/01/07/apple-40-billio...</td>\n",
       "      <td>http://mashable.com/2013/01/07/astronaut-notre...</td>\n",
       "      <td>http://mashable.com/2013/01/07/att-u-verse-apps/</td>\n",
       "    </tr>\n",
       "    <tr>\n",
       "      <th>timedelta</th>\n",
       "      <td>731</td>\n",
       "      <td>731</td>\n",
       "      <td>731</td>\n",
       "      <td>731</td>\n",
       "      <td>731</td>\n",
       "    </tr>\n",
       "    <tr>\n",
       "      <th>n_tokens_title</th>\n",
       "      <td>12</td>\n",
       "      <td>9</td>\n",
       "      <td>9</td>\n",
       "      <td>9</td>\n",
       "      <td>13</td>\n",
       "    </tr>\n",
       "    <tr>\n",
       "      <th>n_tokens_content</th>\n",
       "      <td>219</td>\n",
       "      <td>255</td>\n",
       "      <td>211</td>\n",
       "      <td>531</td>\n",
       "      <td>1072</td>\n",
       "    </tr>\n",
       "    <tr>\n",
       "      <th>n_unique_tokens</th>\n",
       "      <td>0.663594</td>\n",
       "      <td>0.604743</td>\n",
       "      <td>0.57513</td>\n",
       "      <td>0.503788</td>\n",
       "      <td>0.415646</td>\n",
       "    </tr>\n",
       "    <tr>\n",
       "      <th>...</th>\n",
       "      <td>...</td>\n",
       "      <td>...</td>\n",
       "      <td>...</td>\n",
       "      <td>...</td>\n",
       "      <td>...</td>\n",
       "    </tr>\n",
       "    <tr>\n",
       "      <th>title_subjectivity</th>\n",
       "      <td>0.5</td>\n",
       "      <td>0</td>\n",
       "      <td>0</td>\n",
       "      <td>0</td>\n",
       "      <td>0.454545</td>\n",
       "    </tr>\n",
       "    <tr>\n",
       "      <th>title_sentiment_polarity</th>\n",
       "      <td>-0.1875</td>\n",
       "      <td>0</td>\n",
       "      <td>0</td>\n",
       "      <td>0</td>\n",
       "      <td>0.136364</td>\n",
       "    </tr>\n",
       "    <tr>\n",
       "      <th>abs_title_subjectivity</th>\n",
       "      <td>0</td>\n",
       "      <td>0.5</td>\n",
       "      <td>0.5</td>\n",
       "      <td>0.5</td>\n",
       "      <td>0.0454545</td>\n",
       "    </tr>\n",
       "    <tr>\n",
       "      <th>abs_title_sentiment_polarity</th>\n",
       "      <td>0.1875</td>\n",
       "      <td>0</td>\n",
       "      <td>0</td>\n",
       "      <td>0</td>\n",
       "      <td>0.136364</td>\n",
       "    </tr>\n",
       "    <tr>\n",
       "      <th>shares</th>\n",
       "      <td>593</td>\n",
       "      <td>711</td>\n",
       "      <td>1500</td>\n",
       "      <td>1200</td>\n",
       "      <td>505</td>\n",
       "    </tr>\n",
       "  </tbody>\n",
       "</table>\n",
       "<p>61 rows × 5 columns</p>\n",
       "</div>"
      ],
      "text/plain": [
       "                                                                              0  \\\n",
       "url                           http://mashable.com/2013/01/07/amazon-instant-...   \n",
       "timedelta                                                                   731   \n",
       "n_tokens_title                                                               12   \n",
       "n_tokens_content                                                            219   \n",
       "n_unique_tokens                                                        0.663594   \n",
       "...                                                                         ...   \n",
       "title_subjectivity                                                          0.5   \n",
       "title_sentiment_polarity                                                -0.1875   \n",
       "abs_title_subjectivity                                                        0   \n",
       "abs_title_sentiment_polarity                                             0.1875   \n",
       "shares                                                                      593   \n",
       "\n",
       "                                                                              1  \\\n",
       "url                           http://mashable.com/2013/01/07/ap-samsung-spon...   \n",
       "timedelta                                                                   731   \n",
       "n_tokens_title                                                                9   \n",
       "n_tokens_content                                                            255   \n",
       "n_unique_tokens                                                        0.604743   \n",
       "...                                                                         ...   \n",
       "title_subjectivity                                                            0   \n",
       "title_sentiment_polarity                                                      0   \n",
       "abs_title_subjectivity                                                      0.5   \n",
       "abs_title_sentiment_polarity                                                  0   \n",
       "shares                                                                      711   \n",
       "\n",
       "                                                                              2  \\\n",
       "url                           http://mashable.com/2013/01/07/apple-40-billio...   \n",
       "timedelta                                                                   731   \n",
       "n_tokens_title                                                                9   \n",
       "n_tokens_content                                                            211   \n",
       "n_unique_tokens                                                         0.57513   \n",
       "...                                                                         ...   \n",
       "title_subjectivity                                                            0   \n",
       "title_sentiment_polarity                                                      0   \n",
       "abs_title_subjectivity                                                      0.5   \n",
       "abs_title_sentiment_polarity                                                  0   \n",
       "shares                                                                     1500   \n",
       "\n",
       "                                                                              3  \\\n",
       "url                           http://mashable.com/2013/01/07/astronaut-notre...   \n",
       "timedelta                                                                   731   \n",
       "n_tokens_title                                                                9   \n",
       "n_tokens_content                                                            531   \n",
       "n_unique_tokens                                                        0.503788   \n",
       "...                                                                         ...   \n",
       "title_subjectivity                                                            0   \n",
       "title_sentiment_polarity                                                      0   \n",
       "abs_title_subjectivity                                                      0.5   \n",
       "abs_title_sentiment_polarity                                                  0   \n",
       "shares                                                                     1200   \n",
       "\n",
       "                                                                             4  \n",
       "url                           http://mashable.com/2013/01/07/att-u-verse-apps/  \n",
       "timedelta                                                                  731  \n",
       "n_tokens_title                                                              13  \n",
       "n_tokens_content                                                          1072  \n",
       "n_unique_tokens                                                       0.415646  \n",
       "...                                                                        ...  \n",
       "title_subjectivity                                                    0.454545  \n",
       "title_sentiment_polarity                                              0.136364  \n",
       "abs_title_subjectivity                                               0.0454545  \n",
       "abs_title_sentiment_polarity                                          0.136364  \n",
       "shares                                                                     505  \n",
       "\n",
       "[61 rows x 5 columns]"
      ]
     },
     "execution_count": 4,
     "metadata": {},
     "output_type": "execute_result"
    }
   ],
   "source": [
    "df_raw.head().transpose()"
   ]
  },
  {
   "cell_type": "code",
   "execution_count": 5,
   "metadata": {},
   "outputs": [],
   "source": [
    "urls = df_raw.url.copy()\n",
    "df_raw.drop('url', axis=1, inplace=True)"
   ]
  },
  {
   "cell_type": "code",
   "execution_count": 6,
   "metadata": {},
   "outputs": [],
   "source": [
    "stanScaler = StandardScaler()\n",
    "stanScaler.fit(df_raw)\n",
    "df_scaled =  stanScaler.transform(df_raw)"
   ]
  },
  {
   "cell_type": "code",
   "execution_count": 7,
   "metadata": {},
   "outputs": [
    {
     "data": {
      "text/plain": [
       "(39644, 60)"
      ]
     },
     "execution_count": 7,
     "metadata": {},
     "output_type": "execute_result"
    }
   ],
   "source": [
    "df_scaled.shape"
   ]
  },
  {
   "cell_type": "code",
   "execution_count": 8,
   "metadata": {},
   "outputs": [],
   "source": [
    "pca = PCA(n_components=2)\n",
    "pca.fit(df_scaled)\n",
    "\n",
    "df_pca = pca.transform(df_scaled)"
   ]
  },
  {
   "cell_type": "code",
   "execution_count": 9,
   "metadata": {},
   "outputs": [
    {
     "data": {
      "text/plain": [
       "(39644, 2)"
      ]
     },
     "execution_count": 9,
     "metadata": {},
     "output_type": "execute_result"
    }
   ],
   "source": [
    "df_pca.shape"
   ]
  },
  {
   "cell_type": "code",
   "execution_count": 10,
   "metadata": {},
   "outputs": [
    {
     "data": {
      "text/plain": [
       "Text(0, 0.5, '2nd PA')"
      ]
     },
     "execution_count": 10,
     "metadata": {},
     "output_type": "execute_result"
    },
    {
     "data": {
      "image/png": "[encoded data removed]",
      "text/plain": [
       "<Figure size 576x432 with 1 Axes>"
      ]
     },
     "metadata": {
      "needs_background": "light"
     },
     "output_type": "display_data"
    }
   ],
   "source": [
    "plt.figure(figsize=(8,6))\n",
    "plt.scatter(df_pca[:,0], df_pca[:,1], c=df_raw['shares'])\n",
    "plt.xlabel('1st PA')\n",
    "plt.ylabel('2nd PA')"
   ]
  },
  {
   "cell_type": "code",
   "execution_count": 11,
   "metadata": {},
   "outputs": [],
   "source": [
    "def RMSE(y_true, y_pred):\n",
    "    return np.sqrt(mean_squared_error(y_true, y_pred))\n",
    "def model_results(trainX, testX, trainY, testY):\n",
    "    RMSEs = []\n",
    "    \n",
    "    model_LinReg = LinearRegression(normalize=True,n_jobs=-1,)\n",
    "    model_LogReg = LogisticRegression()\n",
    "    model_RandForestReg = RandomForestRegressor(n_estimators=300,n_jobs=-1,max_depth=16, criterion='mse')\n",
    "    model_SVC = SVC(random_state=9)\n",
    "    model_linearSVC = LinearSVC()\n",
    "    \n",
    "    models = [model_LinReg, model_RandForestReg, model_LogReg, model_SVC, model_linearSVC]\n",
    "    for model in models:\n",
    "        model.fit(trainX, trainY)\n",
    "        score = (RMSE(testY, model.predict(testX)))\n",
    "        print(f'{model} : {score}')\n",
    "    return models, RMSEs"
   ]
  },
  {
   "cell_type": "code",
   "execution_count": 33,
   "metadata": {},
   "outputs": [],
   "source": [
    "trainX, testX, trainY, testY = train_test_split(df_pca, df_raw['shares'], random_state=30, test_size=0.40)"
   ]
  },
  {
   "cell_type": "code",
   "execution_count": 13,
   "metadata": {},
   "outputs": [
    {
     "name": "stdout",
     "output_type": "stream",
     "text": [
      "LinearRegression(n_jobs=-1, normalize=True) : 12311.388007803105\n",
      "RandomForestRegressor(max_depth=16, n_estimators=300, n_jobs=-1) : 13015.709659390162\n"
     ]
    },
    {
     "name": "stderr",
     "output_type": "stream",
     "text": [
      "E:\\Edureka_Python-Course\\edu-py\\lib\\site-packages\\sklearn\\linear_model\\_logistic.py:762: ConvergenceWarning: lbfgs failed to converge (status=1):\n",
      "STOP: TOTAL NO. of ITERATIONS REACHED LIMIT.\n",
      "\n",
      "Increase the number of iterations (max_iter) or scale the data as shown in:\n",
      "    https://scikit-learn.org/stable/modules/preprocessing.html\n",
      "Please also refer to the documentation for alternative solver options:\n",
      "    https://scikit-learn.org/stable/modules/linear_model.html#logistic-regression\n",
      "  n_iter_i = _check_optimize_result(\n"
     ]
    },
    {
     "name": "stdout",
     "output_type": "stream",
     "text": [
      "LogisticRegression() : 12573.54398309899\n",
      "SVC(random_state=9) : 12576.100593816735\n"
     ]
    },
    {
     "name": "stderr",
     "output_type": "stream",
     "text": [
      "E:\\Edureka_Python-Course\\edu-py\\lib\\site-packages\\sklearn\\svm\\_base.py:976: ConvergenceWarning: Liblinear failed to converge, increase the number of iterations.\n",
      "  warnings.warn(\"Liblinear failed to converge, increase \"\n"
     ]
    },
    {
     "name": "stdout",
     "output_type": "stream",
     "text": [
      "LinearSVC() : 12583.144604651092\n"
     ]
    },
    {
     "data": {
      "text/plain": [
       "([LinearRegression(n_jobs=-1, normalize=True),\n",
       "  RandomForestRegressor(max_depth=16, n_estimators=300, n_jobs=-1),\n",
       "  LogisticRegression(),\n",
       "  SVC(random_state=9),\n",
       "  LinearSVC()],\n",
       " [])"
      ]
     },
     "execution_count": 13,
     "metadata": {},
     "output_type": "execute_result"
    }
   ],
   "source": [
    "model_results(trainX, testX, trainY, testY)"
   ]
  },
  {
   "cell_type": "markdown",
   "metadata": {},
   "source": [
    "> ### Linear Regression model seems to perform the best"
   ]
  },
  {
   "cell_type": "code",
   "execution_count": 34,
   "metadata": {},
   "outputs": [],
   "source": [
    "model_LinReg = LinearRegression(copy_X=True, n_jobs=-1)\n",
    "model_LinReg.get_params(deep=True)\n",
    "prm_grd = {\n",
    "    'fit_intercept' : [True, False],\n",
    "    'normalize'     : [True, False],    \n",
    "}\n",
    "scoring = ['accuracy', 'max_error', 'neg_mean_squared_error']\n",
    "kfold_16 = KFold(n_splits=16, shuffle=True, random_state=58)\n",
    "gsCV = GridSearchCV(estimator=model_LinReg,\n",
    "                    param_grid=prm_grd,\n",
    "                    cv=kfold_16,\n",
    "                    scoring=make_scorer(mean_squared_error),\n",
    "                   )\n"
   ]
  },
  {
   "cell_type": "code",
   "execution_count": 35,
   "metadata": {},
   "outputs": [
    {
     "data": {
      "text/plain": [
       "GridSearchCV(cv=KFold(n_splits=16, random_state=58, shuffle=True),\n",
       "             estimator=LinearRegression(n_jobs=-1),\n",
       "             param_grid={'fit_intercept': [True, False],\n",
       "                         'normalize': [True, False]},\n",
       "             scoring=make_scorer(mean_squared_error))"
      ]
     },
     "execution_count": 35,
     "metadata": {},
     "output_type": "execute_result"
    }
   ],
   "source": [
    "gsCV.fit(trainX, trainY)"
   ]
  },
  {
   "cell_type": "code",
   "execution_count": 36,
   "metadata": {},
   "outputs": [
    {
     "data": {
      "text/plain": [
       "LinearRegression(fit_intercept=False, n_jobs=-1, normalize=True)"
      ]
     },
     "execution_count": 36,
     "metadata": {},
     "output_type": "execute_result"
    }
   ],
   "source": [
    "gsCV.best_estimator_"
   ]
  },
  {
   "cell_type": "code",
   "execution_count": 37,
   "metadata": {},
   "outputs": [
    {
     "data": {
      "text/plain": [
       "12077.101416957728"
      ]
     },
     "execution_count": 37,
     "metadata": {},
     "output_type": "execute_result"
    }
   ],
   "source": [
    "model = LinearRegression(n_jobs=-1, normalize=True)\n",
    "model.fit(trainX, trainY)\n",
    "y_pred = model.predict(testX)\n",
    "RMSE(testY, y_pred)"
   ]
  },
  {
   "cell_type": "code",
   "execution_count": null,
   "metadata": {},
   "outputs": [],
   "source": []
  }
 ],
 "metadata": {
  "kernelspec": {
   "display_name": "edureka",
   "language": "python",
   "name": "edureka"
  },
  "language_info": {
   "codemirror_mode": {
    "name": "ipython",
    "version": 3
   },
   "file_extension": ".py",
   "mimetype": "text/x-python",
   "name": "python",
   "nbconvert_exporter": "python",
   "pygments_lexer": "ipython3",
   "version": "3.8.3"
  }
 },
 "nbformat": 4,
 "nbformat_minor": 4
}
