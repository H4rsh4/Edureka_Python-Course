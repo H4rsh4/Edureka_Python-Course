{
 "cells": [
  {
   "cell_type": "markdown",
   "metadata": {},
   "source": [
    "- Remove Name\n",
    "- Fill nulls with mean score\n",
    "- Merge The datasets and Purge unnecessary columns\n",
    "- Convert Ethnicity to a numerical value\n",
    "- Convert Sex(M\\F) to Numerical(1\\2)"
   ]
  },
  {
   "cell_type": "code",
   "execution_count": 1,
   "metadata": {},
   "outputs": [],
   "source": [
    "import pandas as pd\n"
   ]
  },
  {
   "cell_type": "code",
   "execution_count": 2,
   "metadata": {},
   "outputs": [],
   "source": [
    "DATA_PATH = 'E:/Edureka_Python-Course/Data Sources/Day_4/'"
   ]
  },
  {
   "cell_type": "code",
   "execution_count": 4,
   "metadata": {},
   "outputs": [],
   "source": [
    "math_df_raw = pd.read_csv(DATA_PATH+'MathScoreTerm1.csv', low_memory=False)\n",
    "DS_df_raw = pd.read_csv(DATA_PATH+'DSScoreTerm1.csv',low_memory=False)\n",
    "phys_df_raw = pd.read_csv(DATA_PATH+'PhysicsScoreTerm1.csv',low_memory=False)\n",
    "\n",
    "dfs = [math_df_raw, DS_df_raw, phys_df_raw] # for easy access"
   ]
  },
  {
   "cell_type": "code",
   "execution_count": 5,
   "metadata": {},
   "outputs": [
    {
     "name": "stdout",
     "output_type": "stream",
     "text": [
      "             Name  Score  Age         Ethinicity Subject Sex  ID\n",
      "0  AI-KYUNG CHUNG   88.0   18     White American   Maths   M   1\n",
      "1     ALAN HARVEY   85.0   19  European American   Maths   M   2\n",
      "2    ALAN REYNAUD   45.0   19  European American   Maths   M   3\n",
      "3  ALBERT CENDANA   82.0   18     White American   Maths   M   4\n",
      "4  ALBERT HOLT JR   82.0   18     White American   Maths   F   5\n",
      "             Name  Score  Age         Ethinicity        Subject Sex  ID\n",
      "0  AI-KYUNG CHUNG   82.0   18     White American  Data Structue   M   1\n",
      "1     ALAN HARVEY   79.0   19  European American  Data Structue   M   2\n",
      "2    ALAN REYNAUD   39.0   19  European American  Data Structue   M   3\n",
      "3  ALBERT CENDANA   76.0   18     White American  Data Structue   M   4\n",
      "4  ALBERT HOLT JR   76.0   18     White American  Data Structue   F   5\n",
      "             Name  Score  Age         Ethinicity  Subject Sex  ID\n",
      "0  AI-KYUNG CHUNG   84.0   18     White American  Physics   M   1\n",
      "1     ALAN HARVEY   81.0   19  European American  Physics   M   2\n",
      "2    ALAN REYNAUD   41.0   19  European American  Physics   M   3\n",
      "3  ALBERT CENDANA   78.0   18     White American  Physics   M   4\n",
      "4  ALBERT HOLT JR   78.0   18     White American  Physics   F   5\n",
      "\n",
      " Index(['Name', 'Score', 'Age', 'Ethinicity', 'Subject', 'Sex', 'ID'], dtype='object')\n"
     ]
    }
   ],
   "source": [
    "print(math_df_raw.head())\n",
    "print(DS_df_raw.head())\n",
    "print(phys_df_raw.head())\n",
    "print('\\n',math_df_raw.columns)"
   ]
  },
  {
   "cell_type": "code",
   "execution_count": 7,
   "metadata": {},
   "outputs": [
    {
     "name": "stdout",
     "output_type": "stream",
     "text": [
      "False\n",
      "False\n",
      "False\n",
      "False\n",
      "False\n",
      "False\n"
     ]
    }
   ],
   "source": [
    "for df in dfs:\n",
    "    df.drop(['Name', 'Ethinicity'], axis=1, inplace=True)\n",
    "    print('Name' in df.columns) #Simple check\n",
    "    print(\"Ethinicity\" in df.columns)"
   ]
  },
  {
   "cell_type": "code",
   "execution_count": 8,
   "metadata": {},
   "outputs": [
    {
     "data": {
      "text/html": [
       "<div>\n",
       "<style scoped>\n",
       "    .dataframe tbody tr th:only-of-type {\n",
       "        vertical-align: middle;\n",
       "    }\n",
       "\n",
       "    .dataframe tbody tr th {\n",
       "        vertical-align: top;\n",
       "    }\n",
       "\n",
       "    .dataframe thead th {\n",
       "        text-align: right;\n",
       "    }\n",
       "</style>\n",
       "<table border=\"1\" class=\"dataframe\">\n",
       "  <thead>\n",
       "    <tr style=\"text-align: right;\">\n",
       "      <th></th>\n",
       "      <th>Score</th>\n",
       "      <th>Age</th>\n",
       "      <th>Subject</th>\n",
       "      <th>Sex</th>\n",
       "      <th>ID</th>\n",
       "    </tr>\n",
       "  </thead>\n",
       "  <tbody>\n",
       "    <tr>\n",
       "      <th>0</th>\n",
       "      <td>82.0</td>\n",
       "      <td>18</td>\n",
       "      <td>Data Structue</td>\n",
       "      <td>M</td>\n",
       "      <td>1</td>\n",
       "    </tr>\n",
       "    <tr>\n",
       "      <th>1</th>\n",
       "      <td>79.0</td>\n",
       "      <td>19</td>\n",
       "      <td>Data Structue</td>\n",
       "      <td>M</td>\n",
       "      <td>2</td>\n",
       "    </tr>\n",
       "    <tr>\n",
       "      <th>2</th>\n",
       "      <td>39.0</td>\n",
       "      <td>19</td>\n",
       "      <td>Data Structue</td>\n",
       "      <td>M</td>\n",
       "      <td>3</td>\n",
       "    </tr>\n",
       "    <tr>\n",
       "      <th>3</th>\n",
       "      <td>76.0</td>\n",
       "      <td>18</td>\n",
       "      <td>Data Structue</td>\n",
       "      <td>M</td>\n",
       "      <td>4</td>\n",
       "    </tr>\n",
       "    <tr>\n",
       "      <th>4</th>\n",
       "      <td>76.0</td>\n",
       "      <td>18</td>\n",
       "      <td>Data Structue</td>\n",
       "      <td>F</td>\n",
       "      <td>5</td>\n",
       "    </tr>\n",
       "    <tr>\n",
       "      <th>...</th>\n",
       "      <td>...</td>\n",
       "      <td>...</td>\n",
       "      <td>...</td>\n",
       "      <td>...</td>\n",
       "      <td>...</td>\n",
       "    </tr>\n",
       "    <tr>\n",
       "      <th>594</th>\n",
       "      <td>39.0</td>\n",
       "      <td>19</td>\n",
       "      <td>Data Structue</td>\n",
       "      <td>F</td>\n",
       "      <td>595</td>\n",
       "    </tr>\n",
       "    <tr>\n",
       "      <th>595</th>\n",
       "      <td>69.0</td>\n",
       "      <td>18</td>\n",
       "      <td>Data Structue</td>\n",
       "      <td>M</td>\n",
       "      <td>596</td>\n",
       "    </tr>\n",
       "    <tr>\n",
       "      <th>596</th>\n",
       "      <td>47.0</td>\n",
       "      <td>20</td>\n",
       "      <td>Data Structue</td>\n",
       "      <td>M</td>\n",
       "      <td>597</td>\n",
       "    </tr>\n",
       "    <tr>\n",
       "      <th>597</th>\n",
       "      <td>69.0</td>\n",
       "      <td>20</td>\n",
       "      <td>Data Structue</td>\n",
       "      <td>M</td>\n",
       "      <td>598</td>\n",
       "    </tr>\n",
       "    <tr>\n",
       "      <th>598</th>\n",
       "      <td>NaN</td>\n",
       "      <td>19</td>\n",
       "      <td>Data Structue</td>\n",
       "      <td>M</td>\n",
       "      <td>599</td>\n",
       "    </tr>\n",
       "  </tbody>\n",
       "</table>\n",
       "<p>599 rows × 5 columns</p>\n",
       "</div>"
      ],
      "text/plain": [
       "     Score  Age        Subject Sex   ID\n",
       "0     82.0   18  Data Structue   M    1\n",
       "1     79.0   19  Data Structue   M    2\n",
       "2     39.0   19  Data Structue   M    3\n",
       "3     76.0   18  Data Structue   M    4\n",
       "4     76.0   18  Data Structue   F    5\n",
       "..     ...  ...            ...  ..  ...\n",
       "594   39.0   19  Data Structue   F  595\n",
       "595   69.0   18  Data Structue   M  596\n",
       "596   47.0   20  Data Structue   M  597\n",
       "597   69.0   20  Data Structue   M  598\n",
       "598    NaN   19  Data Structue   M  599\n",
       "\n",
       "[599 rows x 5 columns]"
      ]
     },
     "execution_count": 8,
     "metadata": {},
     "output_type": "execute_result"
    }
   ],
   "source": [
    "dfs[1]"
   ]
  },
  {
   "cell_type": "code",
   "execution_count": 10,
   "metadata": {},
   "outputs": [
    {
     "name": "stdout",
     "output_type": "stream",
     "text": [
      "Score      0.500835\n",
      "Age        0.000000\n",
      "Subject    0.000000\n",
      "Sex        0.000000\n",
      "ID         0.000000\n",
      "dtype: float64\n",
      "Score      1.335559\n",
      "Age        0.000000\n",
      "Subject    0.000000\n",
      "Sex        0.000000\n",
      "ID         0.000000\n",
      "dtype: float64\n",
      "Score      1.001669\n",
      "Age        0.000000\n",
      "Subject    0.000000\n",
      "Sex        0.000000\n",
      "ID         0.000000\n",
      "dtype: float64\n"
     ]
    }
   ],
   "source": [
    "for df in dfs:\n",
    "    #df.fillna(value=df.Score.mean(), inplace=True)\n",
    "    #Check if there is any missing values\n",
    "    percent_missing = df.isnull().sum() * 100 / len(df)\n",
    "    print(percent_missing)"
   ]
  },
  {
   "cell_type": "code",
   "execution_count": null,
   "metadata": {},
   "outputs": [],
   "source": [
    "df_merged = pd.merge(dfs[0], dfs[1], how='outer', on='ID', suffixes=['_Math','_DS'])\n",
    "df_merged = pd.merge(df_merged, dfs[2], how='outer', on='ID')\n",
    "df_merged"
   ]
  },
  {
   "cell_type": "code",
   "execution_count": 13,
   "metadata": {},
   "outputs": [],
   "source": [
    "?pd.merge"
   ]
  },
  {
   "cell_type": "code",
   "execution_count": null,
   "metadata": {},
   "outputs": [],
   "source": []
  }
 ],
 "metadata": {
  "kernelspec": {
   "display_name": "edureka",
   "language": "python",
   "name": "edureka"
  },
  "language_info": {
   "codemirror_mode": {
    "name": "ipython",
    "version": 3
   },
   "file_extension": ".py",
   "mimetype": "text/x-python",
   "name": "python",
   "nbconvert_exporter": "python",
   "pygments_lexer": "ipython3",
   "version": "3.8.3"
  }
 },
 "nbformat": 4,
 "nbformat_minor": 4
}
